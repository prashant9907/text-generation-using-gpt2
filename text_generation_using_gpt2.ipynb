{
  "metadata": {
    "accelerator": "GPU",
    "colab": {
      "gpuType": "T4",
      "provenance": []
    },
    "kernelspec": {
      "name": "python3",
      "display_name": "Python 3",
      "language": "python"
    },
    "language_info": {
      "name": "python",
      "version": "3.10.12",
      "mimetype": "text/x-python",
      "codemirror_mode": {
        "name": "ipython",
        "version": 3
      },
      "pygments_lexer": "ipython3",
      "nbconvert_exporter": "python",
      "file_extension": ".py"
    },
    "widgets": {
      "application/vnd.jupyter.widget-state+json": {
        "01af6b7122f94b9f92853de3f80a3aad": {
          "model_module": "@jupyter-widgets/controls",
          "model_module_version": "1.5.0",
          "model_name": "ProgressStyleModel",
          "state": {
            "_model_module": "@jupyter-widgets/controls",
            "_model_module_version": "1.5.0",
            "_model_name": "ProgressStyleModel",
            "_view_count": null,
            "_view_module": "@jupyter-widgets/base",
            "_view_module_version": "1.2.0",
            "_view_name": "StyleView",
            "bar_color": null,
            "description_width": ""
          }
        },
        "0a0ec6e272714502af8b61fa11bd9e72": {
          "model_module": "@jupyter-widgets/controls",
          "model_module_version": "1.5.0",
          "model_name": "DescriptionStyleModel",
          "state": {
            "_model_module": "@jupyter-widgets/controls",
            "_model_module_version": "1.5.0",
            "_model_name": "DescriptionStyleModel",
            "_view_count": null,
            "_view_module": "@jupyter-widgets/base",
            "_view_module_version": "1.2.0",
            "_view_name": "StyleView",
            "description_width": ""
          }
        },
        "0ea8dcb0d4c64390b7178cddcb1598ee": {
          "model_module": "@jupyter-widgets/base",
          "model_module_version": "1.2.0",
          "model_name": "LayoutModel",
          "state": {
            "_model_module": "@jupyter-widgets/base",
            "_model_module_version": "1.2.0",
            "_model_name": "LayoutModel",
            "_view_count": null,
            "_view_module": "@jupyter-widgets/base",
            "_view_module_version": "1.2.0",
            "_view_name": "LayoutView",
            "align_content": null,
            "align_items": null,
            "align_self": null,
            "border": null,
            "bottom": null,
            "display": null,
            "flex": null,
            "flex_flow": null,
            "grid_area": null,
            "grid_auto_columns": null,
            "grid_auto_flow": null,
            "grid_auto_rows": null,
            "grid_column": null,
            "grid_gap": null,
            "grid_row": null,
            "grid_template_areas": null,
            "grid_template_columns": null,
            "grid_template_rows": null,
            "height": null,
            "justify_content": null,
            "justify_items": null,
            "left": null,
            "margin": null,
            "max_height": null,
            "max_width": null,
            "min_height": null,
            "min_width": null,
            "object_fit": null,
            "object_position": null,
            "order": null,
            "overflow": null,
            "overflow_x": null,
            "overflow_y": null,
            "padding": null,
            "right": null,
            "top": null,
            "visibility": null,
            "width": null
          }
        },
        "12e4349e1f224c32b35afb738c584c89": {
          "model_module": "@jupyter-widgets/base",
          "model_module_version": "1.2.0",
          "model_name": "LayoutModel",
          "state": {
            "_model_module": "@jupyter-widgets/base",
            "_model_module_version": "1.2.0",
            "_model_name": "LayoutModel",
            "_view_count": null,
            "_view_module": "@jupyter-widgets/base",
            "_view_module_version": "1.2.0",
            "_view_name": "LayoutView",
            "align_content": null,
            "align_items": null,
            "align_self": null,
            "border": null,
            "bottom": null,
            "display": null,
            "flex": null,
            "flex_flow": null,
            "grid_area": null,
            "grid_auto_columns": null,
            "grid_auto_flow": null,
            "grid_auto_rows": null,
            "grid_column": null,
            "grid_gap": null,
            "grid_row": null,
            "grid_template_areas": null,
            "grid_template_columns": null,
            "grid_template_rows": null,
            "height": null,
            "justify_content": null,
            "justify_items": null,
            "left": null,
            "margin": null,
            "max_height": null,
            "max_width": null,
            "min_height": null,
            "min_width": null,
            "object_fit": null,
            "object_position": null,
            "order": null,
            "overflow": null,
            "overflow_x": null,
            "overflow_y": null,
            "padding": null,
            "right": null,
            "top": null,
            "visibility": null,
            "width": null
          }
        },
        "1590f17082ae4b2987351c5a4756fd2a": {
          "model_module": "@jupyter-widgets/controls",
          "model_module_version": "1.5.0",
          "model_name": "DescriptionStyleModel",
          "state": {
            "_model_module": "@jupyter-widgets/controls",
            "_model_module_version": "1.5.0",
            "_model_name": "DescriptionStyleModel",
            "_view_count": null,
            "_view_module": "@jupyter-widgets/base",
            "_view_module_version": "1.2.0",
            "_view_name": "StyleView",
            "description_width": ""
          }
        },
        "1c82b5894e104256b9a66ab2120a884f": {
          "model_module": "@jupyter-widgets/controls",
          "model_module_version": "1.5.0",
          "model_name": "HBoxModel",
          "state": {
            "_dom_classes": [],
            "_model_module": "@jupyter-widgets/controls",
            "_model_module_version": "1.5.0",
            "_model_name": "HBoxModel",
            "_view_count": null,
            "_view_module": "@jupyter-widgets/controls",
            "_view_module_version": "1.5.0",
            "_view_name": "HBoxView",
            "box_style": "",
            "children": [
              "IPY_MODEL_3de4b5230d234d94b4764d9335f385d0",
              "IPY_MODEL_eb0b1b5cdc4a4d618659a5e82d238fe4",
              "IPY_MODEL_adfeb43799534a7eaeef7209dc92496a"
            ],
            "layout": "IPY_MODEL_d3b4af4b7e274b19b734eecf7b50c3d7"
          }
        },
        "218667d6f8d54600a202e64493853ddd": {
          "model_module": "@jupyter-widgets/controls",
          "model_module_version": "1.5.0",
          "model_name": "ProgressStyleModel",
          "state": {
            "_model_module": "@jupyter-widgets/controls",
            "_model_module_version": "1.5.0",
            "_model_name": "ProgressStyleModel",
            "_view_count": null,
            "_view_module": "@jupyter-widgets/base",
            "_view_module_version": "1.2.0",
            "_view_name": "StyleView",
            "bar_color": null,
            "description_width": ""
          }
        },
        "21e71575ee3d420e9631d2c3de2aa20d": {
          "model_module": "@jupyter-widgets/controls",
          "model_module_version": "1.5.0",
          "model_name": "HTMLModel",
          "state": {
            "_dom_classes": [],
            "_model_module": "@jupyter-widgets/controls",
            "_model_module_version": "1.5.0",
            "_model_name": "HTMLModel",
            "_view_count": null,
            "_view_module": "@jupyter-widgets/controls",
            "_view_module_version": "1.5.0",
            "_view_name": "HTMLView",
            "description": "",
            "description_tooltip": null,
            "layout": "IPY_MODEL_a4375b4a66dc40dbb6018dd77c6e5d74",
            "placeholder": "​",
            "style": "IPY_MODEL_c7d37106d60b4aa58f0e9fdf07093497",
            "value": "Downloading (…)lve/main/config.json: 100%"
          }
        },
        "2434567e33e84977a029b1658a8bd679": {
          "model_module": "@jupyter-widgets/controls",
          "model_module_version": "1.5.0",
          "model_name": "HTMLModel",
          "state": {
            "_dom_classes": [],
            "_model_module": "@jupyter-widgets/controls",
            "_model_module_version": "1.5.0",
            "_model_name": "HTMLModel",
            "_view_count": null,
            "_view_module": "@jupyter-widgets/controls",
            "_view_module_version": "1.5.0",
            "_view_name": "HTMLView",
            "description": "",
            "description_tooltip": null,
            "layout": "IPY_MODEL_8efbdae5975648aa8126c51a15ab4689",
            "placeholder": "​",
            "style": "IPY_MODEL_fb43975c59904fb788a7be63f56168fd",
            "value": " 665/665 [00:00&lt;00:00, 16.6kB/s]"
          }
        },
        "26d7fc2cb8444bf2b049ed3db30cea28": {
          "model_module": "@jupyter-widgets/controls",
          "model_module_version": "1.5.0",
          "model_name": "HBoxModel",
          "state": {
            "_dom_classes": [],
            "_model_module": "@jupyter-widgets/controls",
            "_model_module_version": "1.5.0",
            "_model_name": "HBoxModel",
            "_view_count": null,
            "_view_module": "@jupyter-widgets/controls",
            "_view_module_version": "1.5.0",
            "_view_name": "HBoxView",
            "box_style": "",
            "children": [
              "IPY_MODEL_ec9577bb1470481887712cf0bc3ff34e",
              "IPY_MODEL_89b5173a4bfa4495806b4827ab70a047",
              "IPY_MODEL_63b3411ab85f4c8b9c8c54bbf31bd015"
            ],
            "layout": "IPY_MODEL_cf11b6b7ceab45eea6abe1c12dd08ac2"
          }
        },
        "2a13413908f24ca8ae6da6b0f3bd8508": {
          "model_module": "@jupyter-widgets/controls",
          "model_module_version": "1.5.0",
          "model_name": "HTMLModel",
          "state": {
            "_dom_classes": [],
            "_model_module": "@jupyter-widgets/controls",
            "_model_module_version": "1.5.0",
            "_model_name": "HTMLModel",
            "_view_count": null,
            "_view_module": "@jupyter-widgets/controls",
            "_view_module_version": "1.5.0",
            "_view_name": "HTMLView",
            "description": "",
            "description_tooltip": null,
            "layout": "IPY_MODEL_de701273cea0494f9c412d5facb2295a",
            "placeholder": "​",
            "style": "IPY_MODEL_39462eed46564c6c9a862d9c3e974e86",
            "value": " 1.36M/1.36M [00:00&lt;00:00, 20.0MB/s]"
          }
        },
        "2c35fa729cc34ac7b02fc67612f275c7": {
          "model_module": "@jupyter-widgets/controls",
          "model_module_version": "1.5.0",
          "model_name": "DescriptionStyleModel",
          "state": {
            "_model_module": "@jupyter-widgets/controls",
            "_model_module_version": "1.5.0",
            "_model_name": "DescriptionStyleModel",
            "_view_count": null,
            "_view_module": "@jupyter-widgets/base",
            "_view_module_version": "1.2.0",
            "_view_name": "StyleView",
            "description_width": ""
          }
        },
        "33fff3f80af14f7f9958e12c5c98f348": {
          "model_module": "@jupyter-widgets/controls",
          "model_module_version": "1.5.0",
          "model_name": "HBoxModel",
          "state": {
            "_dom_classes": [],
            "_model_module": "@jupyter-widgets/controls",
            "_model_module_version": "1.5.0",
            "_model_name": "HBoxModel",
            "_view_count": null,
            "_view_module": "@jupyter-widgets/controls",
            "_view_module_version": "1.5.0",
            "_view_name": "HBoxView",
            "box_style": "",
            "children": [
              "IPY_MODEL_8b0708da99cd4da3a6da82cb35ce201d",
              "IPY_MODEL_ae62dfc3f5aa4912ab890213eee722a0",
              "IPY_MODEL_2a13413908f24ca8ae6da6b0f3bd8508"
            ],
            "layout": "IPY_MODEL_6bc06ec297e745729948ddc96765d0b1"
          }
        },
        "355b44689b6340c692c0969b73da9619": {
          "model_module": "@jupyter-widgets/base",
          "model_module_version": "1.2.0",
          "model_name": "LayoutModel",
          "state": {
            "_model_module": "@jupyter-widgets/base",
            "_model_module_version": "1.2.0",
            "_model_name": "LayoutModel",
            "_view_count": null,
            "_view_module": "@jupyter-widgets/base",
            "_view_module_version": "1.2.0",
            "_view_name": "LayoutView",
            "align_content": null,
            "align_items": null,
            "align_self": null,
            "border": null,
            "bottom": null,
            "display": null,
            "flex": null,
            "flex_flow": null,
            "grid_area": null,
            "grid_auto_columns": null,
            "grid_auto_flow": null,
            "grid_auto_rows": null,
            "grid_column": null,
            "grid_gap": null,
            "grid_row": null,
            "grid_template_areas": null,
            "grid_template_columns": null,
            "grid_template_rows": null,
            "height": null,
            "justify_content": null,
            "justify_items": null,
            "left": null,
            "margin": null,
            "max_height": null,
            "max_width": null,
            "min_height": null,
            "min_width": null,
            "object_fit": null,
            "object_position": null,
            "order": null,
            "overflow": null,
            "overflow_x": null,
            "overflow_y": null,
            "padding": null,
            "right": null,
            "top": null,
            "visibility": null,
            "width": null
          }
        },
        "3743f1ac6cc14cc180e94c425faa980a": {
          "model_module": "@jupyter-widgets/controls",
          "model_module_version": "1.5.0",
          "model_name": "HBoxModel",
          "state": {
            "_dom_classes": [],
            "_model_module": "@jupyter-widgets/controls",
            "_model_module_version": "1.5.0",
            "_model_name": "HBoxModel",
            "_view_count": null,
            "_view_module": "@jupyter-widgets/controls",
            "_view_module_version": "1.5.0",
            "_view_name": "HBoxView",
            "box_style": "",
            "children": [
              "IPY_MODEL_a03dc40261bb40378c39d1c839b3feb7",
              "IPY_MODEL_4fcc675ac05246e3a48fb5e297f159b5",
              "IPY_MODEL_e2343dc95a2c4d329fc58aaec629ab14"
            ],
            "layout": "IPY_MODEL_6d1374883b394fbb983913ae0e6b9816"
          }
        },
        "39462eed46564c6c9a862d9c3e974e86": {
          "model_module": "@jupyter-widgets/controls",
          "model_module_version": "1.5.0",
          "model_name": "DescriptionStyleModel",
          "state": {
            "_model_module": "@jupyter-widgets/controls",
            "_model_module_version": "1.5.0",
            "_model_name": "DescriptionStyleModel",
            "_view_count": null,
            "_view_module": "@jupyter-widgets/base",
            "_view_module_version": "1.2.0",
            "_view_name": "StyleView",
            "description_width": ""
          }
        },
        "3ada8125ab50465e9b0223385fc8359b": {
          "model_module": "@jupyter-widgets/controls",
          "model_module_version": "1.5.0",
          "model_name": "ProgressStyleModel",
          "state": {
            "_model_module": "@jupyter-widgets/controls",
            "_model_module_version": "1.5.0",
            "_model_name": "ProgressStyleModel",
            "_view_count": null,
            "_view_module": "@jupyter-widgets/base",
            "_view_module_version": "1.2.0",
            "_view_name": "StyleView",
            "bar_color": null,
            "description_width": ""
          }
        },
        "3de4b5230d234d94b4764d9335f385d0": {
          "model_module": "@jupyter-widgets/controls",
          "model_module_version": "1.5.0",
          "model_name": "HTMLModel",
          "state": {
            "_dom_classes": [],
            "_model_module": "@jupyter-widgets/controls",
            "_model_module_version": "1.5.0",
            "_model_name": "HTMLModel",
            "_view_count": null,
            "_view_module": "@jupyter-widgets/controls",
            "_view_module_version": "1.5.0",
            "_view_name": "HTMLView",
            "description": "",
            "description_tooltip": null,
            "layout": "IPY_MODEL_a1b52da2a2f14b9094a3ea7b4b7bce26",
            "placeholder": "​",
            "style": "IPY_MODEL_1590f17082ae4b2987351c5a4756fd2a",
            "value": "Downloading (…)olve/main/merges.txt: 100%"
          }
        },
        "3f6fe5ab4081468db79ce913b6a386cc": {
          "model_module": "@jupyter-widgets/base",
          "model_module_version": "1.2.0",
          "model_name": "LayoutModel",
          "state": {
            "_model_module": "@jupyter-widgets/base",
            "_model_module_version": "1.2.0",
            "_model_name": "LayoutModel",
            "_view_count": null,
            "_view_module": "@jupyter-widgets/base",
            "_view_module_version": "1.2.0",
            "_view_name": "LayoutView",
            "align_content": null,
            "align_items": null,
            "align_self": null,
            "border": null,
            "bottom": null,
            "display": null,
            "flex": null,
            "flex_flow": null,
            "grid_area": null,
            "grid_auto_columns": null,
            "grid_auto_flow": null,
            "grid_auto_rows": null,
            "grid_column": null,
            "grid_gap": null,
            "grid_row": null,
            "grid_template_areas": null,
            "grid_template_columns": null,
            "grid_template_rows": null,
            "height": null,
            "justify_content": null,
            "justify_items": null,
            "left": null,
            "margin": null,
            "max_height": null,
            "max_width": null,
            "min_height": null,
            "min_width": null,
            "object_fit": null,
            "object_position": null,
            "order": null,
            "overflow": null,
            "overflow_x": null,
            "overflow_y": null,
            "padding": null,
            "right": null,
            "top": null,
            "visibility": null,
            "width": null
          }
        },
        "4781e81614f14e3bb8719f8211278c82": {
          "model_module": "@jupyter-widgets/controls",
          "model_module_version": "1.5.0",
          "model_name": "FloatProgressModel",
          "state": {
            "_dom_classes": [],
            "_model_module": "@jupyter-widgets/controls",
            "_model_module_version": "1.5.0",
            "_model_name": "FloatProgressModel",
            "_view_count": null,
            "_view_module": "@jupyter-widgets/controls",
            "_view_module_version": "1.5.0",
            "_view_name": "ProgressView",
            "bar_style": "success",
            "description": "",
            "description_tooltip": null,
            "layout": "IPY_MODEL_50a0c9b276dc4207b6cff26e43598374",
            "max": 548118077,
            "min": 0,
            "orientation": "horizontal",
            "style": "IPY_MODEL_3ada8125ab50465e9b0223385fc8359b",
            "value": 548118077
          }
        },
        "487598fbe67d4ed2a7bb1afdbb3917d1": {
          "model_module": "@jupyter-widgets/controls",
          "model_module_version": "1.5.0",
          "model_name": "DescriptionStyleModel",
          "state": {
            "_model_module": "@jupyter-widgets/controls",
            "_model_module_version": "1.5.0",
            "_model_name": "DescriptionStyleModel",
            "_view_count": null,
            "_view_module": "@jupyter-widgets/base",
            "_view_module_version": "1.2.0",
            "_view_name": "StyleView",
            "description_width": ""
          }
        },
        "4ddcf8ff3dd04ed2bd5e14ba031e80f0": {
          "model_module": "@jupyter-widgets/controls",
          "model_module_version": "1.5.0",
          "model_name": "DescriptionStyleModel",
          "state": {
            "_model_module": "@jupyter-widgets/controls",
            "_model_module_version": "1.5.0",
            "_model_name": "DescriptionStyleModel",
            "_view_count": null,
            "_view_module": "@jupyter-widgets/base",
            "_view_module_version": "1.2.0",
            "_view_name": "StyleView",
            "description_width": ""
          }
        },
        "4fcc675ac05246e3a48fb5e297f159b5": {
          "model_module": "@jupyter-widgets/controls",
          "model_module_version": "1.5.0",
          "model_name": "FloatProgressModel",
          "state": {
            "_dom_classes": [],
            "_model_module": "@jupyter-widgets/controls",
            "_model_module_version": "1.5.0",
            "_model_name": "FloatProgressModel",
            "_view_count": null,
            "_view_module": "@jupyter-widgets/controls",
            "_view_module_version": "1.5.0",
            "_view_name": "ProgressView",
            "bar_style": "success",
            "description": "",
            "description_tooltip": null,
            "layout": "IPY_MODEL_68587b5fd0454d33a1699dc71ef0dbee",
            "max": 124,
            "min": 0,
            "orientation": "horizontal",
            "style": "IPY_MODEL_7a5e230756aa40848c615b1700894bb8",
            "value": 124
          }
        },
        "50a0c9b276dc4207b6cff26e43598374": {
          "model_module": "@jupyter-widgets/base",
          "model_module_version": "1.2.0",
          "model_name": "LayoutModel",
          "state": {
            "_model_module": "@jupyter-widgets/base",
            "_model_module_version": "1.2.0",
            "_model_name": "LayoutModel",
            "_view_count": null,
            "_view_module": "@jupyter-widgets/base",
            "_view_module_version": "1.2.0",
            "_view_name": "LayoutView",
            "align_content": null,
            "align_items": null,
            "align_self": null,
            "border": null,
            "bottom": null,
            "display": null,
            "flex": null,
            "flex_flow": null,
            "grid_area": null,
            "grid_auto_columns": null,
            "grid_auto_flow": null,
            "grid_auto_rows": null,
            "grid_column": null,
            "grid_gap": null,
            "grid_row": null,
            "grid_template_areas": null,
            "grid_template_columns": null,
            "grid_template_rows": null,
            "height": null,
            "justify_content": null,
            "justify_items": null,
            "left": null,
            "margin": null,
            "max_height": null,
            "max_width": null,
            "min_height": null,
            "min_width": null,
            "object_fit": null,
            "object_position": null,
            "order": null,
            "overflow": null,
            "overflow_x": null,
            "overflow_y": null,
            "padding": null,
            "right": null,
            "top": null,
            "visibility": null,
            "width": null
          }
        },
        "5221011e370c4a46ba1b037492e881d4": {
          "model_module": "@jupyter-widgets/controls",
          "model_module_version": "1.5.0",
          "model_name": "ProgressStyleModel",
          "state": {
            "_model_module": "@jupyter-widgets/controls",
            "_model_module_version": "1.5.0",
            "_model_name": "ProgressStyleModel",
            "_view_count": null,
            "_view_module": "@jupyter-widgets/base",
            "_view_module_version": "1.2.0",
            "_view_name": "StyleView",
            "bar_color": null,
            "description_width": ""
          }
        },
        "55c26c326bc149fda88db432fe91882b": {
          "model_module": "@jupyter-widgets/base",
          "model_module_version": "1.2.0",
          "model_name": "LayoutModel",
          "state": {
            "_model_module": "@jupyter-widgets/base",
            "_model_module_version": "1.2.0",
            "_model_name": "LayoutModel",
            "_view_count": null,
            "_view_module": "@jupyter-widgets/base",
            "_view_module_version": "1.2.0",
            "_view_name": "LayoutView",
            "align_content": null,
            "align_items": null,
            "align_self": null,
            "border": null,
            "bottom": null,
            "display": null,
            "flex": null,
            "flex_flow": null,
            "grid_area": null,
            "grid_auto_columns": null,
            "grid_auto_flow": null,
            "grid_auto_rows": null,
            "grid_column": null,
            "grid_gap": null,
            "grid_row": null,
            "grid_template_areas": null,
            "grid_template_columns": null,
            "grid_template_rows": null,
            "height": null,
            "justify_content": null,
            "justify_items": null,
            "left": null,
            "margin": null,
            "max_height": null,
            "max_width": null,
            "min_height": null,
            "min_width": null,
            "object_fit": null,
            "object_position": null,
            "order": null,
            "overflow": null,
            "overflow_x": null,
            "overflow_y": null,
            "padding": null,
            "right": null,
            "top": null,
            "visibility": null,
            "width": null
          }
        },
        "5992bd1e96a64febb17f4cef86fec248": {
          "model_module": "@jupyter-widgets/controls",
          "model_module_version": "1.5.0",
          "model_name": "HBoxModel",
          "state": {
            "_dom_classes": [],
            "_model_module": "@jupyter-widgets/controls",
            "_model_module_version": "1.5.0",
            "_model_name": "HBoxModel",
            "_view_count": null,
            "_view_module": "@jupyter-widgets/controls",
            "_view_module_version": "1.5.0",
            "_view_name": "HBoxView",
            "box_style": "",
            "children": [
              "IPY_MODEL_f204e6ff280741adb9b95f74e8419c30",
              "IPY_MODEL_4781e81614f14e3bb8719f8211278c82",
              "IPY_MODEL_66f1048288c642ce97cf23f62a01250d"
            ],
            "layout": "IPY_MODEL_0ea8dcb0d4c64390b7178cddcb1598ee"
          }
        },
        "5f0270c8749f40d08fde1a3d0cd5e3e0": {
          "model_module": "@jupyter-widgets/base",
          "model_module_version": "1.2.0",
          "model_name": "LayoutModel",
          "state": {
            "_model_module": "@jupyter-widgets/base",
            "_model_module_version": "1.2.0",
            "_model_name": "LayoutModel",
            "_view_count": null,
            "_view_module": "@jupyter-widgets/base",
            "_view_module_version": "1.2.0",
            "_view_name": "LayoutView",
            "align_content": null,
            "align_items": null,
            "align_self": null,
            "border": null,
            "bottom": null,
            "display": null,
            "flex": null,
            "flex_flow": null,
            "grid_area": null,
            "grid_auto_columns": null,
            "grid_auto_flow": null,
            "grid_auto_rows": null,
            "grid_column": null,
            "grid_gap": null,
            "grid_row": null,
            "grid_template_areas": null,
            "grid_template_columns": null,
            "grid_template_rows": null,
            "height": null,
            "justify_content": null,
            "justify_items": null,
            "left": null,
            "margin": null,
            "max_height": null,
            "max_width": null,
            "min_height": null,
            "min_width": null,
            "object_fit": null,
            "object_position": null,
            "order": null,
            "overflow": null,
            "overflow_x": null,
            "overflow_y": null,
            "padding": null,
            "right": null,
            "top": null,
            "visibility": null,
            "width": null
          }
        },
        "63b3411ab85f4c8b9c8c54bbf31bd015": {
          "model_module": "@jupyter-widgets/controls",
          "model_module_version": "1.5.0",
          "model_name": "HTMLModel",
          "state": {
            "_dom_classes": [],
            "_model_module": "@jupyter-widgets/controls",
            "_model_module_version": "1.5.0",
            "_model_name": "HTMLModel",
            "_view_count": null,
            "_view_module": "@jupyter-widgets/controls",
            "_view_module_version": "1.5.0",
            "_view_name": "HTMLView",
            "description": "",
            "description_tooltip": null,
            "layout": "IPY_MODEL_c4dc4b21a9b1443687c519bd685122d1",
            "placeholder": "​",
            "style": "IPY_MODEL_8c3678af621b4dea8ee95a6445caa348",
            "value": " 1.04M/1.04M [00:00&lt;00:00, 6.54MB/s]"
          }
        },
        "66f1048288c642ce97cf23f62a01250d": {
          "model_module": "@jupyter-widgets/controls",
          "model_module_version": "1.5.0",
          "model_name": "HTMLModel",
          "state": {
            "_dom_classes": [],
            "_model_module": "@jupyter-widgets/controls",
            "_model_module_version": "1.5.0",
            "_model_name": "HTMLModel",
            "_view_count": null,
            "_view_module": "@jupyter-widgets/controls",
            "_view_module_version": "1.5.0",
            "_view_name": "HTMLView",
            "description": "",
            "description_tooltip": null,
            "layout": "IPY_MODEL_55c26c326bc149fda88db432fe91882b",
            "placeholder": "​",
            "style": "IPY_MODEL_ff1f06e2cb6540d7b176646ff8337428",
            "value": " 548M/548M [00:06&lt;00:00, 94.9MB/s]"
          }
        },
        "67c08397b8aa4c7da958e9ec244366bc": {
          "model_module": "@jupyter-widgets/base",
          "model_module_version": "1.2.0",
          "model_name": "LayoutModel",
          "state": {
            "_model_module": "@jupyter-widgets/base",
            "_model_module_version": "1.2.0",
            "_model_name": "LayoutModel",
            "_view_count": null,
            "_view_module": "@jupyter-widgets/base",
            "_view_module_version": "1.2.0",
            "_view_name": "LayoutView",
            "align_content": null,
            "align_items": null,
            "align_self": null,
            "border": null,
            "bottom": null,
            "display": null,
            "flex": null,
            "flex_flow": null,
            "grid_area": null,
            "grid_auto_columns": null,
            "grid_auto_flow": null,
            "grid_auto_rows": null,
            "grid_column": null,
            "grid_gap": null,
            "grid_row": null,
            "grid_template_areas": null,
            "grid_template_columns": null,
            "grid_template_rows": null,
            "height": null,
            "justify_content": null,
            "justify_items": null,
            "left": null,
            "margin": null,
            "max_height": null,
            "max_width": null,
            "min_height": null,
            "min_width": null,
            "object_fit": null,
            "object_position": null,
            "order": null,
            "overflow": null,
            "overflow_x": null,
            "overflow_y": null,
            "padding": null,
            "right": null,
            "top": null,
            "visibility": null,
            "width": null
          }
        },
        "68587b5fd0454d33a1699dc71ef0dbee": {
          "model_module": "@jupyter-widgets/base",
          "model_module_version": "1.2.0",
          "model_name": "LayoutModel",
          "state": {
            "_model_module": "@jupyter-widgets/base",
            "_model_module_version": "1.2.0",
            "_model_name": "LayoutModel",
            "_view_count": null,
            "_view_module": "@jupyter-widgets/base",
            "_view_module_version": "1.2.0",
            "_view_name": "LayoutView",
            "align_content": null,
            "align_items": null,
            "align_self": null,
            "border": null,
            "bottom": null,
            "display": null,
            "flex": null,
            "flex_flow": null,
            "grid_area": null,
            "grid_auto_columns": null,
            "grid_auto_flow": null,
            "grid_auto_rows": null,
            "grid_column": null,
            "grid_gap": null,
            "grid_row": null,
            "grid_template_areas": null,
            "grid_template_columns": null,
            "grid_template_rows": null,
            "height": null,
            "justify_content": null,
            "justify_items": null,
            "left": null,
            "margin": null,
            "max_height": null,
            "max_width": null,
            "min_height": null,
            "min_width": null,
            "object_fit": null,
            "object_position": null,
            "order": null,
            "overflow": null,
            "overflow_x": null,
            "overflow_y": null,
            "padding": null,
            "right": null,
            "top": null,
            "visibility": null,
            "width": null
          }
        },
        "6bc06ec297e745729948ddc96765d0b1": {
          "model_module": "@jupyter-widgets/base",
          "model_module_version": "1.2.0",
          "model_name": "LayoutModel",
          "state": {
            "_model_module": "@jupyter-widgets/base",
            "_model_module_version": "1.2.0",
            "_model_name": "LayoutModel",
            "_view_count": null,
            "_view_module": "@jupyter-widgets/base",
            "_view_module_version": "1.2.0",
            "_view_name": "LayoutView",
            "align_content": null,
            "align_items": null,
            "align_self": null,
            "border": null,
            "bottom": null,
            "display": null,
            "flex": null,
            "flex_flow": null,
            "grid_area": null,
            "grid_auto_columns": null,
            "grid_auto_flow": null,
            "grid_auto_rows": null,
            "grid_column": null,
            "grid_gap": null,
            "grid_row": null,
            "grid_template_areas": null,
            "grid_template_columns": null,
            "grid_template_rows": null,
            "height": null,
            "justify_content": null,
            "justify_items": null,
            "left": null,
            "margin": null,
            "max_height": null,
            "max_width": null,
            "min_height": null,
            "min_width": null,
            "object_fit": null,
            "object_position": null,
            "order": null,
            "overflow": null,
            "overflow_x": null,
            "overflow_y": null,
            "padding": null,
            "right": null,
            "top": null,
            "visibility": null,
            "width": null
          }
        },
        "6d1374883b394fbb983913ae0e6b9816": {
          "model_module": "@jupyter-widgets/base",
          "model_module_version": "1.2.0",
          "model_name": "LayoutModel",
          "state": {
            "_model_module": "@jupyter-widgets/base",
            "_model_module_version": "1.2.0",
            "_model_name": "LayoutModel",
            "_view_count": null,
            "_view_module": "@jupyter-widgets/base",
            "_view_module_version": "1.2.0",
            "_view_name": "LayoutView",
            "align_content": null,
            "align_items": null,
            "align_self": null,
            "border": null,
            "bottom": null,
            "display": null,
            "flex": null,
            "flex_flow": null,
            "grid_area": null,
            "grid_auto_columns": null,
            "grid_auto_flow": null,
            "grid_auto_rows": null,
            "grid_column": null,
            "grid_gap": null,
            "grid_row": null,
            "grid_template_areas": null,
            "grid_template_columns": null,
            "grid_template_rows": null,
            "height": null,
            "justify_content": null,
            "justify_items": null,
            "left": null,
            "margin": null,
            "max_height": null,
            "max_width": null,
            "min_height": null,
            "min_width": null,
            "object_fit": null,
            "object_position": null,
            "order": null,
            "overflow": null,
            "overflow_x": null,
            "overflow_y": null,
            "padding": null,
            "right": null,
            "top": null,
            "visibility": null,
            "width": null
          }
        },
        "7a5e230756aa40848c615b1700894bb8": {
          "model_module": "@jupyter-widgets/controls",
          "model_module_version": "1.5.0",
          "model_name": "ProgressStyleModel",
          "state": {
            "_model_module": "@jupyter-widgets/controls",
            "_model_module_version": "1.5.0",
            "_model_name": "ProgressStyleModel",
            "_view_count": null,
            "_view_module": "@jupyter-widgets/base",
            "_view_module_version": "1.2.0",
            "_view_name": "StyleView",
            "bar_color": null,
            "description_width": ""
          }
        },
        "893222e9fdb54738ac56b04c0b553e5a": {
          "model_module": "@jupyter-widgets/controls",
          "model_module_version": "1.5.0",
          "model_name": "DescriptionStyleModel",
          "state": {
            "_model_module": "@jupyter-widgets/controls",
            "_model_module_version": "1.5.0",
            "_model_name": "DescriptionStyleModel",
            "_view_count": null,
            "_view_module": "@jupyter-widgets/base",
            "_view_module_version": "1.2.0",
            "_view_name": "StyleView",
            "description_width": ""
          }
        },
        "89b5173a4bfa4495806b4827ab70a047": {
          "model_module": "@jupyter-widgets/controls",
          "model_module_version": "1.5.0",
          "model_name": "FloatProgressModel",
          "state": {
            "_dom_classes": [],
            "_model_module": "@jupyter-widgets/controls",
            "_model_module_version": "1.5.0",
            "_model_name": "FloatProgressModel",
            "_view_count": null,
            "_view_module": "@jupyter-widgets/controls",
            "_view_module_version": "1.5.0",
            "_view_name": "ProgressView",
            "bar_style": "success",
            "description": "",
            "description_tooltip": null,
            "layout": "IPY_MODEL_930c99fd89fe40e08c3359d7127030a7",
            "max": 1042301,
            "min": 0,
            "orientation": "horizontal",
            "style": "IPY_MODEL_218667d6f8d54600a202e64493853ddd",
            "value": 1042301
          }
        },
        "8b0708da99cd4da3a6da82cb35ce201d": {
          "model_module": "@jupyter-widgets/controls",
          "model_module_version": "1.5.0",
          "model_name": "HTMLModel",
          "state": {
            "_dom_classes": [],
            "_model_module": "@jupyter-widgets/controls",
            "_model_module_version": "1.5.0",
            "_model_name": "HTMLModel",
            "_view_count": null,
            "_view_module": "@jupyter-widgets/controls",
            "_view_module_version": "1.5.0",
            "_view_name": "HTMLView",
            "description": "",
            "description_tooltip": null,
            "layout": "IPY_MODEL_d23d18b6f5e14862a612eb622eaf2eb2",
            "placeholder": "​",
            "style": "IPY_MODEL_893222e9fdb54738ac56b04c0b553e5a",
            "value": "Downloading (…)/main/tokenizer.json: 100%"
          }
        },
        "8c3678af621b4dea8ee95a6445caa348": {
          "model_module": "@jupyter-widgets/controls",
          "model_module_version": "1.5.0",
          "model_name": "DescriptionStyleModel",
          "state": {
            "_model_module": "@jupyter-widgets/controls",
            "_model_module_version": "1.5.0",
            "_model_name": "DescriptionStyleModel",
            "_view_count": null,
            "_view_module": "@jupyter-widgets/base",
            "_view_module_version": "1.2.0",
            "_view_name": "StyleView",
            "description_width": ""
          }
        },
        "8efbdae5975648aa8126c51a15ab4689": {
          "model_module": "@jupyter-widgets/base",
          "model_module_version": "1.2.0",
          "model_name": "LayoutModel",
          "state": {
            "_model_module": "@jupyter-widgets/base",
            "_model_module_version": "1.2.0",
            "_model_name": "LayoutModel",
            "_view_count": null,
            "_view_module": "@jupyter-widgets/base",
            "_view_module_version": "1.2.0",
            "_view_name": "LayoutView",
            "align_content": null,
            "align_items": null,
            "align_self": null,
            "border": null,
            "bottom": null,
            "display": null,
            "flex": null,
            "flex_flow": null,
            "grid_area": null,
            "grid_auto_columns": null,
            "grid_auto_flow": null,
            "grid_auto_rows": null,
            "grid_column": null,
            "grid_gap": null,
            "grid_row": null,
            "grid_template_areas": null,
            "grid_template_columns": null,
            "grid_template_rows": null,
            "height": null,
            "justify_content": null,
            "justify_items": null,
            "left": null,
            "margin": null,
            "max_height": null,
            "max_width": null,
            "min_height": null,
            "min_width": null,
            "object_fit": null,
            "object_position": null,
            "order": null,
            "overflow": null,
            "overflow_x": null,
            "overflow_y": null,
            "padding": null,
            "right": null,
            "top": null,
            "visibility": null,
            "width": null
          }
        },
        "930c99fd89fe40e08c3359d7127030a7": {
          "model_module": "@jupyter-widgets/base",
          "model_module_version": "1.2.0",
          "model_name": "LayoutModel",
          "state": {
            "_model_module": "@jupyter-widgets/base",
            "_model_module_version": "1.2.0",
            "_model_name": "LayoutModel",
            "_view_count": null,
            "_view_module": "@jupyter-widgets/base",
            "_view_module_version": "1.2.0",
            "_view_name": "LayoutView",
            "align_content": null,
            "align_items": null,
            "align_self": null,
            "border": null,
            "bottom": null,
            "display": null,
            "flex": null,
            "flex_flow": null,
            "grid_area": null,
            "grid_auto_columns": null,
            "grid_auto_flow": null,
            "grid_auto_rows": null,
            "grid_column": null,
            "grid_gap": null,
            "grid_row": null,
            "grid_template_areas": null,
            "grid_template_columns": null,
            "grid_template_rows": null,
            "height": null,
            "justify_content": null,
            "justify_items": null,
            "left": null,
            "margin": null,
            "max_height": null,
            "max_width": null,
            "min_height": null,
            "min_width": null,
            "object_fit": null,
            "object_position": null,
            "order": null,
            "overflow": null,
            "overflow_x": null,
            "overflow_y": null,
            "padding": null,
            "right": null,
            "top": null,
            "visibility": null,
            "width": null
          }
        },
        "9af6afcead684057adb693c2a6d4d320": {
          "model_module": "@jupyter-widgets/base",
          "model_module_version": "1.2.0",
          "model_name": "LayoutModel",
          "state": {
            "_model_module": "@jupyter-widgets/base",
            "_model_module_version": "1.2.0",
            "_model_name": "LayoutModel",
            "_view_count": null,
            "_view_module": "@jupyter-widgets/base",
            "_view_module_version": "1.2.0",
            "_view_name": "LayoutView",
            "align_content": null,
            "align_items": null,
            "align_self": null,
            "border": null,
            "bottom": null,
            "display": null,
            "flex": null,
            "flex_flow": null,
            "grid_area": null,
            "grid_auto_columns": null,
            "grid_auto_flow": null,
            "grid_auto_rows": null,
            "grid_column": null,
            "grid_gap": null,
            "grid_row": null,
            "grid_template_areas": null,
            "grid_template_columns": null,
            "grid_template_rows": null,
            "height": null,
            "justify_content": null,
            "justify_items": null,
            "left": null,
            "margin": null,
            "max_height": null,
            "max_width": null,
            "min_height": null,
            "min_width": null,
            "object_fit": null,
            "object_position": null,
            "order": null,
            "overflow": null,
            "overflow_x": null,
            "overflow_y": null,
            "padding": null,
            "right": null,
            "top": null,
            "visibility": null,
            "width": null
          }
        },
        "a03dc40261bb40378c39d1c839b3feb7": {
          "model_module": "@jupyter-widgets/controls",
          "model_module_version": "1.5.0",
          "model_name": "HTMLModel",
          "state": {
            "_dom_classes": [],
            "_model_module": "@jupyter-widgets/controls",
            "_model_module_version": "1.5.0",
            "_model_name": "HTMLModel",
            "_view_count": null,
            "_view_module": "@jupyter-widgets/controls",
            "_view_module_version": "1.5.0",
            "_view_name": "HTMLView",
            "description": "",
            "description_tooltip": null,
            "layout": "IPY_MODEL_3f6fe5ab4081468db79ce913b6a386cc",
            "placeholder": "​",
            "style": "IPY_MODEL_487598fbe67d4ed2a7bb1afdbb3917d1",
            "value": "Downloading (…)neration_config.json: 100%"
          }
        },
        "a0d143a6cc2241dfbd02badc6aa1e09e": {
          "model_module": "@jupyter-widgets/controls",
          "model_module_version": "1.5.0",
          "model_name": "FloatProgressModel",
          "state": {
            "_dom_classes": [],
            "_model_module": "@jupyter-widgets/controls",
            "_model_module_version": "1.5.0",
            "_model_name": "FloatProgressModel",
            "_view_count": null,
            "_view_module": "@jupyter-widgets/controls",
            "_view_module_version": "1.5.0",
            "_view_name": "ProgressView",
            "bar_style": "success",
            "description": "",
            "description_tooltip": null,
            "layout": "IPY_MODEL_c7eef3e139f844d2a24994b805e2a7e8",
            "max": 665,
            "min": 0,
            "orientation": "horizontal",
            "style": "IPY_MODEL_f0d3ed603fde4fed9b4fac7727c8b5f1",
            "value": 665
          }
        },
        "a1b52da2a2f14b9094a3ea7b4b7bce26": {
          "model_module": "@jupyter-widgets/base",
          "model_module_version": "1.2.0",
          "model_name": "LayoutModel",
          "state": {
            "_model_module": "@jupyter-widgets/base",
            "_model_module_version": "1.2.0",
            "_model_name": "LayoutModel",
            "_view_count": null,
            "_view_module": "@jupyter-widgets/base",
            "_view_module_version": "1.2.0",
            "_view_name": "LayoutView",
            "align_content": null,
            "align_items": null,
            "align_self": null,
            "border": null,
            "bottom": null,
            "display": null,
            "flex": null,
            "flex_flow": null,
            "grid_area": null,
            "grid_auto_columns": null,
            "grid_auto_flow": null,
            "grid_auto_rows": null,
            "grid_column": null,
            "grid_gap": null,
            "grid_row": null,
            "grid_template_areas": null,
            "grid_template_columns": null,
            "grid_template_rows": null,
            "height": null,
            "justify_content": null,
            "justify_items": null,
            "left": null,
            "margin": null,
            "max_height": null,
            "max_width": null,
            "min_height": null,
            "min_width": null,
            "object_fit": null,
            "object_position": null,
            "order": null,
            "overflow": null,
            "overflow_x": null,
            "overflow_y": null,
            "padding": null,
            "right": null,
            "top": null,
            "visibility": null,
            "width": null
          }
        },
        "a4375b4a66dc40dbb6018dd77c6e5d74": {
          "model_module": "@jupyter-widgets/base",
          "model_module_version": "1.2.0",
          "model_name": "LayoutModel",
          "state": {
            "_model_module": "@jupyter-widgets/base",
            "_model_module_version": "1.2.0",
            "_model_name": "LayoutModel",
            "_view_count": null,
            "_view_module": "@jupyter-widgets/base",
            "_view_module_version": "1.2.0",
            "_view_name": "LayoutView",
            "align_content": null,
            "align_items": null,
            "align_self": null,
            "border": null,
            "bottom": null,
            "display": null,
            "flex": null,
            "flex_flow": null,
            "grid_area": null,
            "grid_auto_columns": null,
            "grid_auto_flow": null,
            "grid_auto_rows": null,
            "grid_column": null,
            "grid_gap": null,
            "grid_row": null,
            "grid_template_areas": null,
            "grid_template_columns": null,
            "grid_template_rows": null,
            "height": null,
            "justify_content": null,
            "justify_items": null,
            "left": null,
            "margin": null,
            "max_height": null,
            "max_width": null,
            "min_height": null,
            "min_width": null,
            "object_fit": null,
            "object_position": null,
            "order": null,
            "overflow": null,
            "overflow_x": null,
            "overflow_y": null,
            "padding": null,
            "right": null,
            "top": null,
            "visibility": null,
            "width": null
          }
        },
        "adfeb43799534a7eaeef7209dc92496a": {
          "model_module": "@jupyter-widgets/controls",
          "model_module_version": "1.5.0",
          "model_name": "HTMLModel",
          "state": {
            "_dom_classes": [],
            "_model_module": "@jupyter-widgets/controls",
            "_model_module_version": "1.5.0",
            "_model_name": "HTMLModel",
            "_view_count": null,
            "_view_module": "@jupyter-widgets/controls",
            "_view_module_version": "1.5.0",
            "_view_name": "HTMLView",
            "description": "",
            "description_tooltip": null,
            "layout": "IPY_MODEL_67c08397b8aa4c7da958e9ec244366bc",
            "placeholder": "​",
            "style": "IPY_MODEL_4ddcf8ff3dd04ed2bd5e14ba031e80f0",
            "value": " 456k/456k [00:00&lt;00:00, 9.29MB/s]"
          }
        },
        "ae62dfc3f5aa4912ab890213eee722a0": {
          "model_module": "@jupyter-widgets/controls",
          "model_module_version": "1.5.0",
          "model_name": "FloatProgressModel",
          "state": {
            "_dom_classes": [],
            "_model_module": "@jupyter-widgets/controls",
            "_model_module_version": "1.5.0",
            "_model_name": "FloatProgressModel",
            "_view_count": null,
            "_view_module": "@jupyter-widgets/controls",
            "_view_module_version": "1.5.0",
            "_view_name": "ProgressView",
            "bar_style": "success",
            "description": "",
            "description_tooltip": null,
            "layout": "IPY_MODEL_12e4349e1f224c32b35afb738c584c89",
            "max": 1355256,
            "min": 0,
            "orientation": "horizontal",
            "style": "IPY_MODEL_5221011e370c4a46ba1b037492e881d4",
            "value": 1355256
          }
        },
        "b0ebb03b87574c889becc099c9f1f4bf": {
          "model_module": "@jupyter-widgets/base",
          "model_module_version": "1.2.0",
          "model_name": "LayoutModel",
          "state": {
            "_model_module": "@jupyter-widgets/base",
            "_model_module_version": "1.2.0",
            "_model_name": "LayoutModel",
            "_view_count": null,
            "_view_module": "@jupyter-widgets/base",
            "_view_module_version": "1.2.0",
            "_view_name": "LayoutView",
            "align_content": null,
            "align_items": null,
            "align_self": null,
            "border": null,
            "bottom": null,
            "display": null,
            "flex": null,
            "flex_flow": null,
            "grid_area": null,
            "grid_auto_columns": null,
            "grid_auto_flow": null,
            "grid_auto_rows": null,
            "grid_column": null,
            "grid_gap": null,
            "grid_row": null,
            "grid_template_areas": null,
            "grid_template_columns": null,
            "grid_template_rows": null,
            "height": null,
            "justify_content": null,
            "justify_items": null,
            "left": null,
            "margin": null,
            "max_height": null,
            "max_width": null,
            "min_height": null,
            "min_width": null,
            "object_fit": null,
            "object_position": null,
            "order": null,
            "overflow": null,
            "overflow_x": null,
            "overflow_y": null,
            "padding": null,
            "right": null,
            "top": null,
            "visibility": null,
            "width": null
          }
        },
        "c4dc4b21a9b1443687c519bd685122d1": {
          "model_module": "@jupyter-widgets/base",
          "model_module_version": "1.2.0",
          "model_name": "LayoutModel",
          "state": {
            "_model_module": "@jupyter-widgets/base",
            "_model_module_version": "1.2.0",
            "_model_name": "LayoutModel",
            "_view_count": null,
            "_view_module": "@jupyter-widgets/base",
            "_view_module_version": "1.2.0",
            "_view_name": "LayoutView",
            "align_content": null,
            "align_items": null,
            "align_self": null,
            "border": null,
            "bottom": null,
            "display": null,
            "flex": null,
            "flex_flow": null,
            "grid_area": null,
            "grid_auto_columns": null,
            "grid_auto_flow": null,
            "grid_auto_rows": null,
            "grid_column": null,
            "grid_gap": null,
            "grid_row": null,
            "grid_template_areas": null,
            "grid_template_columns": null,
            "grid_template_rows": null,
            "height": null,
            "justify_content": null,
            "justify_items": null,
            "left": null,
            "margin": null,
            "max_height": null,
            "max_width": null,
            "min_height": null,
            "min_width": null,
            "object_fit": null,
            "object_position": null,
            "order": null,
            "overflow": null,
            "overflow_x": null,
            "overflow_y": null,
            "padding": null,
            "right": null,
            "top": null,
            "visibility": null,
            "width": null
          }
        },
        "c7d37106d60b4aa58f0e9fdf07093497": {
          "model_module": "@jupyter-widgets/controls",
          "model_module_version": "1.5.0",
          "model_name": "DescriptionStyleModel",
          "state": {
            "_model_module": "@jupyter-widgets/controls",
            "_model_module_version": "1.5.0",
            "_model_name": "DescriptionStyleModel",
            "_view_count": null,
            "_view_module": "@jupyter-widgets/base",
            "_view_module_version": "1.2.0",
            "_view_name": "StyleView",
            "description_width": ""
          }
        },
        "c7eef3e139f844d2a24994b805e2a7e8": {
          "model_module": "@jupyter-widgets/base",
          "model_module_version": "1.2.0",
          "model_name": "LayoutModel",
          "state": {
            "_model_module": "@jupyter-widgets/base",
            "_model_module_version": "1.2.0",
            "_model_name": "LayoutModel",
            "_view_count": null,
            "_view_module": "@jupyter-widgets/base",
            "_view_module_version": "1.2.0",
            "_view_name": "LayoutView",
            "align_content": null,
            "align_items": null,
            "align_self": null,
            "border": null,
            "bottom": null,
            "display": null,
            "flex": null,
            "flex_flow": null,
            "grid_area": null,
            "grid_auto_columns": null,
            "grid_auto_flow": null,
            "grid_auto_rows": null,
            "grid_column": null,
            "grid_gap": null,
            "grid_row": null,
            "grid_template_areas": null,
            "grid_template_columns": null,
            "grid_template_rows": null,
            "height": null,
            "justify_content": null,
            "justify_items": null,
            "left": null,
            "margin": null,
            "max_height": null,
            "max_width": null,
            "min_height": null,
            "min_width": null,
            "object_fit": null,
            "object_position": null,
            "order": null,
            "overflow": null,
            "overflow_x": null,
            "overflow_y": null,
            "padding": null,
            "right": null,
            "top": null,
            "visibility": null,
            "width": null
          }
        },
        "c956f2d9388c4a03929c3243ac7caa56": {
          "model_module": "@jupyter-widgets/base",
          "model_module_version": "1.2.0",
          "model_name": "LayoutModel",
          "state": {
            "_model_module": "@jupyter-widgets/base",
            "_model_module_version": "1.2.0",
            "_model_name": "LayoutModel",
            "_view_count": null,
            "_view_module": "@jupyter-widgets/base",
            "_view_module_version": "1.2.0",
            "_view_name": "LayoutView",
            "align_content": null,
            "align_items": null,
            "align_self": null,
            "border": null,
            "bottom": null,
            "display": null,
            "flex": null,
            "flex_flow": null,
            "grid_area": null,
            "grid_auto_columns": null,
            "grid_auto_flow": null,
            "grid_auto_rows": null,
            "grid_column": null,
            "grid_gap": null,
            "grid_row": null,
            "grid_template_areas": null,
            "grid_template_columns": null,
            "grid_template_rows": null,
            "height": null,
            "justify_content": null,
            "justify_items": null,
            "left": null,
            "margin": null,
            "max_height": null,
            "max_width": null,
            "min_height": null,
            "min_width": null,
            "object_fit": null,
            "object_position": null,
            "order": null,
            "overflow": null,
            "overflow_x": null,
            "overflow_y": null,
            "padding": null,
            "right": null,
            "top": null,
            "visibility": null,
            "width": null
          }
        },
        "ce057a6b4c2b4f9f80bb3c8b660c89f3": {
          "model_module": "@jupyter-widgets/controls",
          "model_module_version": "1.5.0",
          "model_name": "HBoxModel",
          "state": {
            "_dom_classes": [],
            "_model_module": "@jupyter-widgets/controls",
            "_model_module_version": "1.5.0",
            "_model_name": "HBoxModel",
            "_view_count": null,
            "_view_module": "@jupyter-widgets/controls",
            "_view_module_version": "1.5.0",
            "_view_name": "HBoxView",
            "box_style": "",
            "children": [
              "IPY_MODEL_21e71575ee3d420e9631d2c3de2aa20d",
              "IPY_MODEL_a0d143a6cc2241dfbd02badc6aa1e09e",
              "IPY_MODEL_2434567e33e84977a029b1658a8bd679"
            ],
            "layout": "IPY_MODEL_c956f2d9388c4a03929c3243ac7caa56"
          }
        },
        "cf11b6b7ceab45eea6abe1c12dd08ac2": {
          "model_module": "@jupyter-widgets/base",
          "model_module_version": "1.2.0",
          "model_name": "LayoutModel",
          "state": {
            "_model_module": "@jupyter-widgets/base",
            "_model_module_version": "1.2.0",
            "_model_name": "LayoutModel",
            "_view_count": null,
            "_view_module": "@jupyter-widgets/base",
            "_view_module_version": "1.2.0",
            "_view_name": "LayoutView",
            "align_content": null,
            "align_items": null,
            "align_self": null,
            "border": null,
            "bottom": null,
            "display": null,
            "flex": null,
            "flex_flow": null,
            "grid_area": null,
            "grid_auto_columns": null,
            "grid_auto_flow": null,
            "grid_auto_rows": null,
            "grid_column": null,
            "grid_gap": null,
            "grid_row": null,
            "grid_template_areas": null,
            "grid_template_columns": null,
            "grid_template_rows": null,
            "height": null,
            "justify_content": null,
            "justify_items": null,
            "left": null,
            "margin": null,
            "max_height": null,
            "max_width": null,
            "min_height": null,
            "min_width": null,
            "object_fit": null,
            "object_position": null,
            "order": null,
            "overflow": null,
            "overflow_x": null,
            "overflow_y": null,
            "padding": null,
            "right": null,
            "top": null,
            "visibility": null,
            "width": null
          }
        },
        "d23d18b6f5e14862a612eb622eaf2eb2": {
          "model_module": "@jupyter-widgets/base",
          "model_module_version": "1.2.0",
          "model_name": "LayoutModel",
          "state": {
            "_model_module": "@jupyter-widgets/base",
            "_model_module_version": "1.2.0",
            "_model_name": "LayoutModel",
            "_view_count": null,
            "_view_module": "@jupyter-widgets/base",
            "_view_module_version": "1.2.0",
            "_view_name": "LayoutView",
            "align_content": null,
            "align_items": null,
            "align_self": null,
            "border": null,
            "bottom": null,
            "display": null,
            "flex": null,
            "flex_flow": null,
            "grid_area": null,
            "grid_auto_columns": null,
            "grid_auto_flow": null,
            "grid_auto_rows": null,
            "grid_column": null,
            "grid_gap": null,
            "grid_row": null,
            "grid_template_areas": null,
            "grid_template_columns": null,
            "grid_template_rows": null,
            "height": null,
            "justify_content": null,
            "justify_items": null,
            "left": null,
            "margin": null,
            "max_height": null,
            "max_width": null,
            "min_height": null,
            "min_width": null,
            "object_fit": null,
            "object_position": null,
            "order": null,
            "overflow": null,
            "overflow_x": null,
            "overflow_y": null,
            "padding": null,
            "right": null,
            "top": null,
            "visibility": null,
            "width": null
          }
        },
        "d3b4af4b7e274b19b734eecf7b50c3d7": {
          "model_module": "@jupyter-widgets/base",
          "model_module_version": "1.2.0",
          "model_name": "LayoutModel",
          "state": {
            "_model_module": "@jupyter-widgets/base",
            "_model_module_version": "1.2.0",
            "_model_name": "LayoutModel",
            "_view_count": null,
            "_view_module": "@jupyter-widgets/base",
            "_view_module_version": "1.2.0",
            "_view_name": "LayoutView",
            "align_content": null,
            "align_items": null,
            "align_self": null,
            "border": null,
            "bottom": null,
            "display": null,
            "flex": null,
            "flex_flow": null,
            "grid_area": null,
            "grid_auto_columns": null,
            "grid_auto_flow": null,
            "grid_auto_rows": null,
            "grid_column": null,
            "grid_gap": null,
            "grid_row": null,
            "grid_template_areas": null,
            "grid_template_columns": null,
            "grid_template_rows": null,
            "height": null,
            "justify_content": null,
            "justify_items": null,
            "left": null,
            "margin": null,
            "max_height": null,
            "max_width": null,
            "min_height": null,
            "min_width": null,
            "object_fit": null,
            "object_position": null,
            "order": null,
            "overflow": null,
            "overflow_x": null,
            "overflow_y": null,
            "padding": null,
            "right": null,
            "top": null,
            "visibility": null,
            "width": null
          }
        },
        "de701273cea0494f9c412d5facb2295a": {
          "model_module": "@jupyter-widgets/base",
          "model_module_version": "1.2.0",
          "model_name": "LayoutModel",
          "state": {
            "_model_module": "@jupyter-widgets/base",
            "_model_module_version": "1.2.0",
            "_model_name": "LayoutModel",
            "_view_count": null,
            "_view_module": "@jupyter-widgets/base",
            "_view_module_version": "1.2.0",
            "_view_name": "LayoutView",
            "align_content": null,
            "align_items": null,
            "align_self": null,
            "border": null,
            "bottom": null,
            "display": null,
            "flex": null,
            "flex_flow": null,
            "grid_area": null,
            "grid_auto_columns": null,
            "grid_auto_flow": null,
            "grid_auto_rows": null,
            "grid_column": null,
            "grid_gap": null,
            "grid_row": null,
            "grid_template_areas": null,
            "grid_template_columns": null,
            "grid_template_rows": null,
            "height": null,
            "justify_content": null,
            "justify_items": null,
            "left": null,
            "margin": null,
            "max_height": null,
            "max_width": null,
            "min_height": null,
            "min_width": null,
            "object_fit": null,
            "object_position": null,
            "order": null,
            "overflow": null,
            "overflow_x": null,
            "overflow_y": null,
            "padding": null,
            "right": null,
            "top": null,
            "visibility": null,
            "width": null
          }
        },
        "e2343dc95a2c4d329fc58aaec629ab14": {
          "model_module": "@jupyter-widgets/controls",
          "model_module_version": "1.5.0",
          "model_name": "HTMLModel",
          "state": {
            "_dom_classes": [],
            "_model_module": "@jupyter-widgets/controls",
            "_model_module_version": "1.5.0",
            "_model_name": "HTMLModel",
            "_view_count": null,
            "_view_module": "@jupyter-widgets/controls",
            "_view_module_version": "1.5.0",
            "_view_name": "HTMLView",
            "description": "",
            "description_tooltip": null,
            "layout": "IPY_MODEL_b0ebb03b87574c889becc099c9f1f4bf",
            "placeholder": "​",
            "style": "IPY_MODEL_2c35fa729cc34ac7b02fc67612f275c7",
            "value": " 124/124 [00:00&lt;00:00, 4.62kB/s]"
          }
        },
        "eb0b1b5cdc4a4d618659a5e82d238fe4": {
          "model_module": "@jupyter-widgets/controls",
          "model_module_version": "1.5.0",
          "model_name": "FloatProgressModel",
          "state": {
            "_dom_classes": [],
            "_model_module": "@jupyter-widgets/controls",
            "_model_module_version": "1.5.0",
            "_model_name": "FloatProgressModel",
            "_view_count": null,
            "_view_module": "@jupyter-widgets/controls",
            "_view_module_version": "1.5.0",
            "_view_name": "ProgressView",
            "bar_style": "success",
            "description": "",
            "description_tooltip": null,
            "layout": "IPY_MODEL_9af6afcead684057adb693c2a6d4d320",
            "max": 456318,
            "min": 0,
            "orientation": "horizontal",
            "style": "IPY_MODEL_01af6b7122f94b9f92853de3f80a3aad",
            "value": 456318
          }
        },
        "ec9577bb1470481887712cf0bc3ff34e": {
          "model_module": "@jupyter-widgets/controls",
          "model_module_version": "1.5.0",
          "model_name": "HTMLModel",
          "state": {
            "_dom_classes": [],
            "_model_module": "@jupyter-widgets/controls",
            "_model_module_version": "1.5.0",
            "_model_name": "HTMLModel",
            "_view_count": null,
            "_view_module": "@jupyter-widgets/controls",
            "_view_module_version": "1.5.0",
            "_view_name": "HTMLView",
            "description": "",
            "description_tooltip": null,
            "layout": "IPY_MODEL_355b44689b6340c692c0969b73da9619",
            "placeholder": "​",
            "style": "IPY_MODEL_f5d7b0a960604cb8932dbd83881bc170",
            "value": "Downloading (…)olve/main/vocab.json: 100%"
          }
        },
        "f0d3ed603fde4fed9b4fac7727c8b5f1": {
          "model_module": "@jupyter-widgets/controls",
          "model_module_version": "1.5.0",
          "model_name": "ProgressStyleModel",
          "state": {
            "_model_module": "@jupyter-widgets/controls",
            "_model_module_version": "1.5.0",
            "_model_name": "ProgressStyleModel",
            "_view_count": null,
            "_view_module": "@jupyter-widgets/base",
            "_view_module_version": "1.2.0",
            "_view_name": "StyleView",
            "bar_color": null,
            "description_width": ""
          }
        },
        "f204e6ff280741adb9b95f74e8419c30": {
          "model_module": "@jupyter-widgets/controls",
          "model_module_version": "1.5.0",
          "model_name": "HTMLModel",
          "state": {
            "_dom_classes": [],
            "_model_module": "@jupyter-widgets/controls",
            "_model_module_version": "1.5.0",
            "_model_name": "HTMLModel",
            "_view_count": null,
            "_view_module": "@jupyter-widgets/controls",
            "_view_module_version": "1.5.0",
            "_view_name": "HTMLView",
            "description": "",
            "description_tooltip": null,
            "layout": "IPY_MODEL_5f0270c8749f40d08fde1a3d0cd5e3e0",
            "placeholder": "​",
            "style": "IPY_MODEL_0a0ec6e272714502af8b61fa11bd9e72",
            "value": "Downloading pytorch_model.bin: 100%"
          }
        },
        "f5d7b0a960604cb8932dbd83881bc170": {
          "model_module": "@jupyter-widgets/controls",
          "model_module_version": "1.5.0",
          "model_name": "DescriptionStyleModel",
          "state": {
            "_model_module": "@jupyter-widgets/controls",
            "_model_module_version": "1.5.0",
            "_model_name": "DescriptionStyleModel",
            "_view_count": null,
            "_view_module": "@jupyter-widgets/base",
            "_view_module_version": "1.2.0",
            "_view_name": "StyleView",
            "description_width": ""
          }
        },
        "fb43975c59904fb788a7be63f56168fd": {
          "model_module": "@jupyter-widgets/controls",
          "model_module_version": "1.5.0",
          "model_name": "DescriptionStyleModel",
          "state": {
            "_model_module": "@jupyter-widgets/controls",
            "_model_module_version": "1.5.0",
            "_model_name": "DescriptionStyleModel",
            "_view_count": null,
            "_view_module": "@jupyter-widgets/base",
            "_view_module_version": "1.2.0",
            "_view_name": "StyleView",
            "description_width": ""
          }
        },
        "ff1f06e2cb6540d7b176646ff8337428": {
          "model_module": "@jupyter-widgets/controls",
          "model_module_version": "1.5.0",
          "model_name": "DescriptionStyleModel",
          "state": {
            "_model_module": "@jupyter-widgets/controls",
            "_model_module_version": "1.5.0",
            "_model_name": "DescriptionStyleModel",
            "_view_count": null,
            "_view_module": "@jupyter-widgets/base",
            "_view_module_version": "1.2.0",
            "_view_name": "StyleView",
            "description_width": ""
          }
        }
      }
    }
  },
  "nbformat_minor": 5,
  "nbformat": 4,
  "cells": [
    {
      "cell_type": "code",
      "source": [
        "!pip install transformers"
      ],
      "metadata": {
        "execution": {
          "iopub.status.busy": "2023-10-27T16:07:26.535594Z",
          "iopub.execute_input": "2023-10-27T16:07:26.535948Z",
          "iopub.status.idle": "2023-10-27T16:07:38.997094Z",
          "shell.execute_reply.started": "2023-10-27T16:07:26.535919Z",
          "shell.execute_reply": "2023-10-27T16:07:38.995981Z"
        },
        "trusted": true,
        "id": "Ok2XjKGi78Gg",
        "outputId": "f3310d7e-708f-4624-e7d9-71a32e469f08"
      },
      "execution_count": null,
      "outputs": [
        {
          "name": "stdout",
          "text": "Requirement already satisfied: transformers in /opt/conda/lib/python3.10/site-packages (4.33.0)\nRequirement already satisfied: filelock in /opt/conda/lib/python3.10/site-packages (from transformers) (3.12.2)\nRequirement already satisfied: huggingface-hub<1.0,>=0.15.1 in /opt/conda/lib/python3.10/site-packages (from transformers) (0.16.4)\nRequirement already satisfied: numpy>=1.17 in /opt/conda/lib/python3.10/site-packages (from transformers) (1.23.5)\nRequirement already satisfied: packaging>=20.0 in /opt/conda/lib/python3.10/site-packages (from transformers) (21.3)\nRequirement already satisfied: pyyaml>=5.1 in /opt/conda/lib/python3.10/site-packages (from transformers) (6.0)\nRequirement already satisfied: regex!=2019.12.17 in /opt/conda/lib/python3.10/site-packages (from transformers) (2023.6.3)\nRequirement already satisfied: requests in /opt/conda/lib/python3.10/site-packages (from transformers) (2.31.0)\nRequirement already satisfied: tokenizers!=0.11.3,<0.14,>=0.11.1 in /opt/conda/lib/python3.10/site-packages (from transformers) (0.13.3)\nRequirement already satisfied: safetensors>=0.3.1 in /opt/conda/lib/python3.10/site-packages (from transformers) (0.3.3)\nRequirement already satisfied: tqdm>=4.27 in /opt/conda/lib/python3.10/site-packages (from transformers) (4.66.1)\nRequirement already satisfied: fsspec in /opt/conda/lib/python3.10/site-packages (from huggingface-hub<1.0,>=0.15.1->transformers) (2023.9.0)\nRequirement already satisfied: typing-extensions>=3.7.4.3 in /opt/conda/lib/python3.10/site-packages (from huggingface-hub<1.0,>=0.15.1->transformers) (4.6.3)\nRequirement already satisfied: pyparsing!=3.0.5,>=2.0.2 in /opt/conda/lib/python3.10/site-packages (from packaging>=20.0->transformers) (3.0.9)\nRequirement already satisfied: charset-normalizer<4,>=2 in /opt/conda/lib/python3.10/site-packages (from requests->transformers) (3.1.0)\nRequirement already satisfied: idna<4,>=2.5 in /opt/conda/lib/python3.10/site-packages (from requests->transformers) (3.4)\nRequirement already satisfied: urllib3<3,>=1.21.1 in /opt/conda/lib/python3.10/site-packages (from requests->transformers) (1.26.15)\nRequirement already satisfied: certifi>=2017.4.17 in /opt/conda/lib/python3.10/site-packages (from requests->transformers) (2023.7.22)\n",
          "output_type": "stream"
        }
      ],
      "id": "Ok2XjKGi78Gg"
    },
    {
      "cell_type": "code",
      "source": [
        "import torch\n",
        "import re\n",
        "from tqdm import tqdm\n",
        "from torch.utils.data import DataLoader, Dataset\n",
        "from transformers import GPT2LMHeadModel, GPT2Tokenizer\n",
        "from torch.optim import AdamW\n",
        "from transformers import Trainer, TrainingArguments\n",
        "from transformers import TextDataset, DataCollatorForLanguageModeling\n",
        "from transformers import pipeline, set_seed\n",
        "import matplotlib.pyplot as plt\n",
        "%matplotlib inline"
      ],
      "metadata": {
        "id": "8238cc7b",
        "execution": {
          "iopub.status.busy": "2023-10-27T16:08:24.027688Z",
          "iopub.execute_input": "2023-10-27T16:08:24.028729Z",
          "iopub.status.idle": "2023-10-27T16:08:24.036056Z",
          "shell.execute_reply.started": "2023-10-27T16:08:24.028692Z",
          "shell.execute_reply": "2023-10-27T16:08:24.034955Z"
        },
        "trusted": true
      },
      "execution_count": null,
      "outputs": [],
      "id": "8238cc7b"
    },
    {
      "cell_type": "code",
      "source": [
        "# This is the name of the program management system for NVIDIA GPUs. We're going to send our code here.\n",
        "\n",
        "device_name = 'cuda'\n",
        "\n",
        "# This is the name of the directory where we'll save our model. You can name it whatever you want.\n",
        "cached_model_directory_name = 'GPT2_text_generation_model_paritosh'"
      ],
      "metadata": {
        "execution": {
          "iopub.status.busy": "2023-10-27T16:08:30.857092Z",
          "iopub.execute_input": "2023-10-27T16:08:30.857873Z",
          "iopub.status.idle": "2023-10-27T16:08:30.862227Z",
          "shell.execute_reply.started": "2023-10-27T16:08:30.857838Z",
          "shell.execute_reply": "2023-10-27T16:08:30.861127Z"
        },
        "trusted": true,
        "id": "vEjXezuZ78Gi"
      },
      "execution_count": null,
      "outputs": [],
      "id": "vEjXezuZ78Gi"
    },
    {
      "cell_type": "code",
      "source": [
        "# Generate text example using gpt2 model\n",
        "generator = pipeline('text-generation', model='gpt2')\n",
        "set_seed(101)\n",
        "generator(\"Harry and Bilbo \", max_length=100, num_return_sequences=2)"
      ],
      "metadata": {
        "colab": {
          "base_uri": "https://localhost:8080/",
          "height": 298,
          "referenced_widgets": [
            "ce057a6b4c2b4f9f80bb3c8b660c89f3",
            "21e71575ee3d420e9631d2c3de2aa20d",
            "a0d143a6cc2241dfbd02badc6aa1e09e",
            "2434567e33e84977a029b1658a8bd679",
            "c956f2d9388c4a03929c3243ac7caa56",
            "a4375b4a66dc40dbb6018dd77c6e5d74",
            "c7d37106d60b4aa58f0e9fdf07093497",
            "c7eef3e139f844d2a24994b805e2a7e8",
            "f0d3ed603fde4fed9b4fac7727c8b5f1",
            "8efbdae5975648aa8126c51a15ab4689",
            "fb43975c59904fb788a7be63f56168fd",
            "5992bd1e96a64febb17f4cef86fec248",
            "f204e6ff280741adb9b95f74e8419c30",
            "4781e81614f14e3bb8719f8211278c82",
            "66f1048288c642ce97cf23f62a01250d",
            "0ea8dcb0d4c64390b7178cddcb1598ee",
            "5f0270c8749f40d08fde1a3d0cd5e3e0",
            "0a0ec6e272714502af8b61fa11bd9e72",
            "50a0c9b276dc4207b6cff26e43598374",
            "3ada8125ab50465e9b0223385fc8359b",
            "55c26c326bc149fda88db432fe91882b",
            "ff1f06e2cb6540d7b176646ff8337428",
            "3743f1ac6cc14cc180e94c425faa980a",
            "a03dc40261bb40378c39d1c839b3feb7",
            "4fcc675ac05246e3a48fb5e297f159b5",
            "e2343dc95a2c4d329fc58aaec629ab14",
            "6d1374883b394fbb983913ae0e6b9816",
            "3f6fe5ab4081468db79ce913b6a386cc",
            "487598fbe67d4ed2a7bb1afdbb3917d1",
            "68587b5fd0454d33a1699dc71ef0dbee",
            "7a5e230756aa40848c615b1700894bb8",
            "b0ebb03b87574c889becc099c9f1f4bf",
            "2c35fa729cc34ac7b02fc67612f275c7",
            "26d7fc2cb8444bf2b049ed3db30cea28",
            "ec9577bb1470481887712cf0bc3ff34e",
            "89b5173a4bfa4495806b4827ab70a047",
            "63b3411ab85f4c8b9c8c54bbf31bd015",
            "cf11b6b7ceab45eea6abe1c12dd08ac2",
            "355b44689b6340c692c0969b73da9619",
            "f5d7b0a960604cb8932dbd83881bc170",
            "930c99fd89fe40e08c3359d7127030a7",
            "218667d6f8d54600a202e64493853ddd",
            "c4dc4b21a9b1443687c519bd685122d1",
            "8c3678af621b4dea8ee95a6445caa348",
            "1c82b5894e104256b9a66ab2120a884f",
            "3de4b5230d234d94b4764d9335f385d0",
            "eb0b1b5cdc4a4d618659a5e82d238fe4",
            "adfeb43799534a7eaeef7209dc92496a",
            "d3b4af4b7e274b19b734eecf7b50c3d7",
            "a1b52da2a2f14b9094a3ea7b4b7bce26",
            "1590f17082ae4b2987351c5a4756fd2a",
            "9af6afcead684057adb693c2a6d4d320",
            "01af6b7122f94b9f92853de3f80a3aad",
            "67c08397b8aa4c7da958e9ec244366bc",
            "4ddcf8ff3dd04ed2bd5e14ba031e80f0",
            "33fff3f80af14f7f9958e12c5c98f348",
            "8b0708da99cd4da3a6da82cb35ce201d",
            "ae62dfc3f5aa4912ab890213eee722a0",
            "2a13413908f24ca8ae6da6b0f3bd8508",
            "6bc06ec297e745729948ddc96765d0b1",
            "d23d18b6f5e14862a612eb622eaf2eb2",
            "893222e9fdb54738ac56b04c0b553e5a",
            "12e4349e1f224c32b35afb738c584c89",
            "5221011e370c4a46ba1b037492e881d4",
            "de701273cea0494f9c412d5facb2295a",
            "39462eed46564c6c9a862d9c3e974e86",
            "bca16bb939fc4044ac203b128c96e718",
            "6bfc3adf59c6482294f3998ccef2c4bd",
            "de416d72e6ed454eada694d364032383",
            "ab9434f449134aa293fda51faea40747",
            "e5184b41940e4838ae46918dc67e4a18",
            "10c643465dcc48caa5c145189b703b74"
          ]
        },
        "id": "YGdTk7zUVeGS",
        "outputId": "fd43da89-3053-4b10-fa69-6ff43badb223",
        "execution": {
          "iopub.status.busy": "2023-10-27T16:08:43.612056Z",
          "iopub.execute_input": "2023-10-27T16:08:43.613093Z",
          "iopub.status.idle": "2023-10-27T16:09:11.163836Z",
          "shell.execute_reply.started": "2023-10-27T16:08:43.613046Z",
          "shell.execute_reply": "2023-10-27T16:09:11.162788Z"
        },
        "trusted": true
      },
      "execution_count": null,
      "outputs": [
        {
          "output_type": "display_data",
          "data": {
            "text/plain": "Downloading (…)lve/main/config.json:   0%|          | 0.00/665 [00:00<?, ?B/s]",
            "application/vnd.jupyter.widget-view+json": {
              "version_major": 2,
              "version_minor": 0,
              "model_id": "bca16bb939fc4044ac203b128c96e718"
            }
          },
          "metadata": {}
        },
        {
          "output_type": "display_data",
          "data": {
            "text/plain": "Downloading model.safetensors:   0%|          | 0.00/548M [00:00<?, ?B/s]",
            "application/vnd.jupyter.widget-view+json": {
              "version_major": 2,
              "version_minor": 0,
              "model_id": "6bfc3adf59c6482294f3998ccef2c4bd"
            }
          },
          "metadata": {}
        },
        {
          "output_type": "display_data",
          "data": {
            "text/plain": "Downloading (…)neration_config.json:   0%|          | 0.00/124 [00:00<?, ?B/s]",
            "application/vnd.jupyter.widget-view+json": {
              "version_major": 2,
              "version_minor": 0,
              "model_id": "de416d72e6ed454eada694d364032383"
            }
          },
          "metadata": {}
        },
        {
          "output_type": "display_data",
          "data": {
            "text/plain": "Downloading (…)olve/main/vocab.json:   0%|          | 0.00/1.04M [00:00<?, ?B/s]",
            "application/vnd.jupyter.widget-view+json": {
              "version_major": 2,
              "version_minor": 0,
              "model_id": "ab9434f449134aa293fda51faea40747"
            }
          },
          "metadata": {}
        },
        {
          "output_type": "display_data",
          "data": {
            "text/plain": "Downloading (…)olve/main/merges.txt:   0%|          | 0.00/456k [00:00<?, ?B/s]",
            "application/vnd.jupyter.widget-view+json": {
              "version_major": 2,
              "version_minor": 0,
              "model_id": "e5184b41940e4838ae46918dc67e4a18"
            }
          },
          "metadata": {}
        },
        {
          "output_type": "display_data",
          "data": {
            "text/plain": "Downloading (…)/main/tokenizer.json:   0%|          | 0.00/1.36M [00:00<?, ?B/s]",
            "application/vnd.jupyter.widget-view+json": {
              "version_major": 2,
              "version_minor": 0,
              "model_id": "10c643465dcc48caa5c145189b703b74"
            }
          },
          "metadata": {}
        },
        {
          "name": "stderr",
          "text": "Setting `pad_token_id` to `eos_token_id`:50256 for open-end generation.\n",
          "output_type": "stream"
        },
        {
          "execution_count": 5,
          "output_type": "execute_result",
          "data": {
            "text/plain": "[{'generated_text': 'Harry and Bilbo \\xa0who has also seen the \"torture chamber\" and the way he is punished for the murders at the hands of the Scoobies and Hobbits: The two of them seem to have spent some time together during this time.\\nMoldy makes an appearance to tell Hobbits that his death has been avoided for quite some time, something Hobbits and Elves have been afraid of ever before and especially about this time. It is clear from this that it is'},\n {'generated_text': \"Harry and Bilbo \\xa0and to continue to build the kingdom along with their own little kingdom together. As they make their way through the Kingdom of the Sun, the Princess of the Sands, and further adventures, they discover a new location and a new kingdom within the kingdoms of the lands which were once the world's most powerful cities.\\nSo far we see the adventures of Princess Bilius and Princess Nilias, although in the main there are many more than one. While there may\"}]"
          },
          "metadata": {}
        }
      ],
      "id": "YGdTk7zUVeGS"
    },
    {
      "cell_type": "code",
      "source": [
        "#Data Loading and Data Cleaning\n",
        "script_files = [\n",
        "                \"/kaggle/input/books-dataset-text-generation/HarryPotter1.txt\",\n",
        "                \"/kaggle/input/books-dataset-text-generation/Hobbit1.txt\",\n",
        "                \"/kaggle/input/books-dataset-text-generation/HarryPotter2.txt\",\n",
        "                \"/kaggle/input/books-dataset-text-generation/LOTR1.txt\",\n",
        "                \"/kaggle/input/books-dataset-text-generation/HarryPotter3.txt\",\n",
        "                \"/kaggle/input/books-dataset-text-generation/LOTR2.txt\",\n",
        "                \"/kaggle/input/books-dataset-text-generation/HarryPotter4.txt\",\n",
        "                \"/kaggle/input/books-dataset-text-generation/LOTR3.txt\",\n",
        "                \"/kaggle/input/books-dataset-text-generation/HarryPotter5.txt\",\n",
        "                \"/kaggle/input/books-dataset-text-generation/Silmarillion4.txt\",\n",
        "                \"/kaggle/input/books-dataset-text-generation/HarryPotter6.txt\",\n",
        "                \"/kaggle/input/books-dataset-text-generation/HarryPotter7.txt\"\n",
        "]\n",
        "text_data=\"\"\n",
        "for script in script_files:\n",
        "    with open(script, 'r') as file:\n",
        "        text = file.read()\n",
        "        text = re.sub(r\"[^\\w\\s.,']\", \"\", text)\n",
        "        text = re.sub(r\"\\s+\", \" \", text)\n",
        "        text_data=text_data+text\n",
        "        text_data = text_data.strip()\n",
        "        file.close()\n",
        "#Save cleaned data in a text file\n",
        "data_file = open('/kaggle/working/cleaned_text_data.txt', 'w')\n",
        "data_file.write(text_data)\n",
        "data_file.close()"
      ],
      "metadata": {
        "id": "539e6c56",
        "execution": {
          "iopub.status.busy": "2023-10-27T16:09:21.968932Z",
          "iopub.execute_input": "2023-10-27T16:09:21.969308Z",
          "iopub.status.idle": "2023-10-27T16:09:23.553307Z",
          "shell.execute_reply.started": "2023-10-27T16:09:21.969278Z",
          "shell.execute_reply": "2023-10-27T16:09:23.552502Z"
        },
        "trusted": true
      },
      "execution_count": null,
      "outputs": [],
      "id": "539e6c56"
    },
    {
      "cell_type": "code",
      "source": [
        "#Location of cleaned data\n",
        "data_file= '/kaggle/working/cleaned_text_data.txt'"
      ],
      "metadata": {
        "id": "33355668",
        "execution": {
          "iopub.status.busy": "2023-10-27T16:09:28.770800Z",
          "iopub.execute_input": "2023-10-27T16:09:28.771508Z",
          "iopub.status.idle": "2023-10-27T16:09:28.775911Z",
          "shell.execute_reply.started": "2023-10-27T16:09:28.771464Z",
          "shell.execute_reply": "2023-10-27T16:09:28.774656Z"
        },
        "trusted": true
      },
      "execution_count": null,
      "outputs": [],
      "id": "33355668"
    },
    {
      "cell_type": "code",
      "source": [
        "#Size of text data\n",
        "len(text_data)"
      ],
      "metadata": {
        "colab": {
          "base_uri": "https://localhost:8080/"
        },
        "id": "120217c7",
        "outputId": "c30591da-8a51-4dd3-d1a4-435ce69f29a6",
        "scrolled": true,
        "execution": {
          "iopub.status.busy": "2023-10-27T16:09:36.098977Z",
          "iopub.execute_input": "2023-10-27T16:09:36.099351Z",
          "iopub.status.idle": "2023-10-27T16:09:36.105387Z",
          "shell.execute_reply.started": "2023-10-27T16:09:36.099322Z",
          "shell.execute_reply": "2023-10-27T16:09:36.104536Z"
        },
        "trusted": true
      },
      "execution_count": null,
      "outputs": [
        {
          "execution_count": 8,
          "output_type": "execute_result",
          "data": {
            "text/plain": "9716362"
          },
          "metadata": {}
        }
      ],
      "id": "120217c7"
    },
    {
      "cell_type": "code",
      "source": [
        "#Load the tokenizer for GPT2 model\n",
        "tokenizer = GPT2Tokenizer.from_pretrained(\"gpt2\")\n",
        "#Tokenize the dataset\n",
        "dataset = TextDataset(tokenizer=tokenizer,file_path=data_file,block_size=128)\n",
        "\n",
        "data_collator = DataCollatorForLanguageModeling(tokenizer=tokenizer,mlm=False)\n",
        "## This block of code will be included in defined functions below."
      ],
      "metadata": {
        "colab": {
          "base_uri": "https://localhost:8080/"
        },
        "id": "2b111ee9",
        "outputId": "fda498cf-d41d-4f32-f315-d4d897b38c0c",
        "scrolled": true,
        "execution": {
          "iopub.status.busy": "2023-10-27T16:10:19.876292Z",
          "iopub.execute_input": "2023-10-27T16:10:19.876671Z",
          "iopub.status.idle": "2023-10-27T16:10:40.935062Z",
          "shell.execute_reply.started": "2023-10-27T16:10:19.876639Z",
          "shell.execute_reply": "2023-10-27T16:10:40.933975Z"
        },
        "trusted": true
      },
      "execution_count": null,
      "outputs": [
        {
          "name": "stderr",
          "text": "/opt/conda/lib/python3.10/site-packages/transformers/data/datasets/language_modeling.py:53: FutureWarning: This dataset will be removed from the library soon, preprocessing should be handled with the 🤗 Datasets library. You can have a look at this example script for pointers: https://github.com/huggingface/transformers/blob/main/examples/pytorch/language-modeling/run_mlm.py\n  warnings.warn(\n",
          "output_type": "stream"
        }
      ],
      "id": "2b111ee9"
    },
    {
      "cell_type": "code",
      "source": [
        "#Define function to load and tokenize the dataset\n",
        "def load_dataset(file_path, tokenizer, block_size = 128):\n",
        "    dataset = TextDataset(\n",
        "        tokenizer = tokenizer,\n",
        "        file_path = file_path,\n",
        "        block_size = block_size,\n",
        "    )\n",
        "    return dataset\n",
        "\n",
        "#Function to load data collator for language modelling\n",
        "def load_data_collator(tokenizer, mlm = False):\n",
        "    data_collator = DataCollatorForLanguageModeling(\n",
        "        tokenizer=tokenizer,\n",
        "        mlm=mlm,\n",
        "    )\n",
        "    return data_collator\n",
        "\n",
        "#Function to train the model\n",
        "tokenizer = None\n",
        "model = None\n",
        "trainer = None\n",
        "\n",
        "def train(train_file_path,model_name,output_dir,overwrite_output_dir,\n",
        "          per_device_train_batch_size,\n",
        "          num_train_epochs,learning_rate):\n",
        "\n",
        "    global tokenizer\n",
        "    global model\n",
        "    global trainer\n",
        "\n",
        "    tokenizer = GPT2Tokenizer.from_pretrained(model_name)\n",
        "    train_dataset = load_dataset(train_file_path, tokenizer)\n",
        "    data_collator = load_data_collator(tokenizer)\n",
        "\n",
        "    tokenizer.save_pretrained(output_dir)\n",
        "\n",
        "    model = GPT2LMHeadModel.from_pretrained(model_name).to(device_name)\n",
        "\n",
        "    #Define training arguments\n",
        "    training_args = TrainingArguments(\n",
        "        output_dir=output_dir,\n",
        "        overwrite_output_dir=overwrite_output_dir,\n",
        "        per_device_train_batch_size=per_device_train_batch_size,\n",
        "        num_train_epochs=num_train_epochs,logging_steps=100, learning_rate = learning_rate)\n",
        "    #Trainer function to train the model\n",
        "    trainer = Trainer(model=model,args=training_args,data_collator=data_collator,train_dataset=train_dataset)\n",
        "\n",
        "    trainer.train()\n",
        "    #Save the model\n",
        "    # trainer.save_model()\n",
        "    return trainer\n",
        "\n",
        "\n",
        "\n"
      ],
      "metadata": {
        "id": "310dcc2f",
        "scrolled": true,
        "execution": {
          "iopub.status.busy": "2023-10-27T16:10:40.937130Z",
          "iopub.execute_input": "2023-10-27T16:10:40.937955Z",
          "iopub.status.idle": "2023-10-27T16:10:40.947248Z",
          "shell.execute_reply.started": "2023-10-27T16:10:40.937916Z",
          "shell.execute_reply": "2023-10-27T16:10:40.946387Z"
        },
        "trusted": true
      },
      "execution_count": null,
      "outputs": [],
      "id": "310dcc2f"
    },
    {
      "cell_type": "code",
      "source": [
        "#Setting parameters\n",
        "train_file_path = data_file\n",
        "model_name = 'gpt2'\n",
        "output_dir = 'saved_model'\n",
        "overwrite_output_dir = True\n",
        "per_device_train_batch_size = 32\n",
        "num_train_epochs = 11\n",
        "learning_rate = 0.0001"
      ],
      "metadata": {
        "id": "57bf4b33",
        "execution": {
          "iopub.status.busy": "2023-10-27T16:10:53.453438Z",
          "iopub.execute_input": "2023-10-27T16:10:53.454316Z",
          "iopub.status.idle": "2023-10-27T16:10:53.459248Z",
          "shell.execute_reply.started": "2023-10-27T16:10:53.454281Z",
          "shell.execute_reply": "2023-10-27T16:10:53.457960Z"
        },
        "trusted": true
      },
      "execution_count": null,
      "outputs": [],
      "id": "57bf4b33"
    },
    {
      "cell_type": "code",
      "source": [
        "#Calling train function to train the model\n",
        "print(\"Learning Rate = \", learning_rate)\n",
        "trainer = train(train_file_path=train_file_path,model_name=model_name,\n",
        "                output_dir=output_dir,\n",
        "                overwrite_output_dir=overwrite_output_dir,\n",
        "                per_device_train_batch_size=per_device_train_batch_size,\n",
        "                num_train_epochs=num_train_epochs, learning_rate=learning_rate)\n",
        "\n",
        "trainer.save_model()"
      ],
      "metadata": {
        "colab": {
          "base_uri": "https://localhost:8080/",
          "height": 1000
        },
        "id": "34ed41be",
        "outputId": "5cb11844-0614-4e43-e0ec-6d0ad39ceaa6",
        "execution": {
          "iopub.status.busy": "2023-10-27T16:10:56.853523Z",
          "iopub.execute_input": "2023-10-27T16:10:56.854359Z",
          "iopub.status.idle": "2023-10-27T17:08:34.978475Z",
          "shell.execute_reply.started": "2023-10-27T16:10:56.854321Z",
          "shell.execute_reply": "2023-10-27T17:08:34.977426Z"
        },
        "trusted": true
      },
      "execution_count": null,
      "outputs": [
        {
          "name": "stdout",
          "text": "Learning Rate =  0.0001\n",
          "output_type": "stream"
        },
        {
          "name": "stderr",
          "text": "\u001b[34m\u001b[1mwandb\u001b[0m: Logging into wandb.ai. (Learn how to deploy a W&B server locally: https://wandb.me/wandb-server)\n\u001b[34m\u001b[1mwandb\u001b[0m: You can find your API key in your browser here: https://wandb.ai/authorize\n\u001b[34m\u001b[1mwandb\u001b[0m: Paste an API key from your profile and hit enter, or press ctrl+c to quit:",
          "output_type": "stream"
        },
        {
          "output_type": "stream",
          "name": "stdin",
          "text": "  ········································\n"
        },
        {
          "name": "stderr",
          "text": "\u001b[34m\u001b[1mwandb\u001b[0m: Appending key for api.wandb.ai to your netrc file: /root/.netrc\n",
          "output_type": "stream"
        },
        {
          "output_type": "display_data",
          "data": {
            "text/plain": "<IPython.core.display.HTML object>",
            "text/html": "wandb version 0.15.12 is available!  To upgrade, please run:\n $ pip install wandb --upgrade"
          },
          "metadata": {}
        },
        {
          "output_type": "display_data",
          "data": {
            "text/plain": "<IPython.core.display.HTML object>",
            "text/html": "Tracking run with wandb version 0.15.9"
          },
          "metadata": {}
        },
        {
          "output_type": "display_data",
          "data": {
            "text/plain": "<IPython.core.display.HTML object>",
            "text/html": "Run data is saved locally in <code>/kaggle/working/wandb/run-20231027_161131-jvrnp99y</code>"
          },
          "metadata": {}
        },
        {
          "output_type": "display_data",
          "data": {
            "text/plain": "<IPython.core.display.HTML object>",
            "text/html": "Syncing run <strong><a href='https://wandb.ai/sharmaparitosh5499999/huggingface/runs/jvrnp99y' target=\"_blank\">prime-fire-14</a></strong> to <a href='https://wandb.ai/sharmaparitosh5499999/huggingface' target=\"_blank\">Weights & Biases</a> (<a href='https://wandb.me/run' target=\"_blank\">docs</a>)<br/>"
          },
          "metadata": {}
        },
        {
          "output_type": "display_data",
          "data": {
            "text/plain": "<IPython.core.display.HTML object>",
            "text/html": " View project at <a href='https://wandb.ai/sharmaparitosh5499999/huggingface' target=\"_blank\">https://wandb.ai/sharmaparitosh5499999/huggingface</a>"
          },
          "metadata": {}
        },
        {
          "output_type": "display_data",
          "data": {
            "text/plain": "<IPython.core.display.HTML object>",
            "text/html": " View run at <a href='https://wandb.ai/sharmaparitosh5499999/huggingface/runs/jvrnp99y' target=\"_blank\">https://wandb.ai/sharmaparitosh5499999/huggingface/runs/jvrnp99y</a>"
          },
          "metadata": {}
        },
        {
          "output_type": "display_data",
          "data": {
            "text/plain": "<IPython.core.display.HTML object>",
            "text/html": "\n    <div>\n      \n      <progress value='6039' max='6039' style='width:300px; height:20px; vertical-align: middle;'></progress>\n      [6039/6039 56:29, Epoch 11/11]\n    </div>\n    <table border=\"1\" class=\"dataframe\">\n  <thead>\n <tr style=\"text-align: left;\">\n      <th>Step</th>\n      <th>Training Loss</th>\n    </tr>\n  </thead>\n  <tbody>\n    <tr>\n      <td>100</td>\n      <td>3.880400</td>\n    </tr>\n    <tr>\n      <td>200</td>\n      <td>3.730200</td>\n    </tr>\n    <tr>\n      <td>300</td>\n      <td>3.667900</td>\n    </tr>\n    <tr>\n      <td>400</td>\n      <td>3.632700</td>\n    </tr>\n    <tr>\n      <td>500</td>\n      <td>3.600000</td>\n    </tr>\n    <tr>\n      <td>600</td>\n      <td>3.511200</td>\n    </tr>\n    <tr>\n      <td>700</td>\n      <td>3.426300</td>\n    </tr>\n    <tr>\n      <td>800</td>\n      <td>3.426600</td>\n    </tr>\n    <tr>\n      <td>900</td>\n      <td>3.420200</td>\n    </tr>\n    <tr>\n      <td>1000</td>\n      <td>3.404300</td>\n    </tr>\n    <tr>\n      <td>1100</td>\n      <td>3.391600</td>\n    </tr>\n    <tr>\n      <td>1200</td>\n      <td>3.266500</td>\n    </tr>\n    <tr>\n      <td>1300</td>\n      <td>3.267400</td>\n    </tr>\n    <tr>\n      <td>1400</td>\n      <td>3.279400</td>\n    </tr>\n    <tr>\n      <td>1500</td>\n      <td>3.276000</td>\n    </tr>\n    <tr>\n      <td>1600</td>\n      <td>3.260700</td>\n    </tr>\n    <tr>\n      <td>1700</td>\n      <td>3.212600</td>\n    </tr>\n    <tr>\n      <td>1800</td>\n      <td>3.160800</td>\n    </tr>\n    <tr>\n      <td>1900</td>\n      <td>3.159000</td>\n    </tr>\n    <tr>\n      <td>2000</td>\n      <td>3.159100</td>\n    </tr>\n    <tr>\n      <td>2100</td>\n      <td>3.166900</td>\n    </tr>\n    <tr>\n      <td>2200</td>\n      <td>3.162200</td>\n    </tr>\n    <tr>\n      <td>2300</td>\n      <td>3.052700</td>\n    </tr>\n    <tr>\n      <td>2400</td>\n      <td>3.066400</td>\n    </tr>\n    <tr>\n      <td>2500</td>\n      <td>3.078500</td>\n    </tr>\n    <tr>\n      <td>2600</td>\n      <td>3.081700</td>\n    </tr>\n    <tr>\n      <td>2700</td>\n      <td>3.079800</td>\n    </tr>\n    <tr>\n      <td>2800</td>\n      <td>3.031900</td>\n    </tr>\n    <tr>\n      <td>2900</td>\n      <td>2.987000</td>\n    </tr>\n    <tr>\n      <td>3000</td>\n      <td>3.005300</td>\n    </tr>\n    <tr>\n      <td>3100</td>\n      <td>3.010000</td>\n    </tr>\n    <tr>\n      <td>3200</td>\n      <td>3.002200</td>\n    </tr>\n    <tr>\n      <td>3300</td>\n      <td>2.994800</td>\n    </tr>\n    <tr>\n      <td>3400</td>\n      <td>2.921300</td>\n    </tr>\n    <tr>\n      <td>3500</td>\n      <td>2.930700</td>\n    </tr>\n    <tr>\n      <td>3600</td>\n      <td>2.941000</td>\n    </tr>\n    <tr>\n      <td>3700</td>\n      <td>2.946200</td>\n    </tr>\n    <tr>\n      <td>3800</td>\n      <td>2.950000</td>\n    </tr>\n    <tr>\n      <td>3900</td>\n      <td>2.902000</td>\n    </tr>\n    <tr>\n      <td>4000</td>\n      <td>2.880600</td>\n    </tr>\n    <tr>\n      <td>4100</td>\n      <td>2.885400</td>\n    </tr>\n    <tr>\n      <td>4200</td>\n      <td>2.889800</td>\n    </tr>\n    <tr>\n      <td>4300</td>\n      <td>2.895200</td>\n    </tr>\n    <tr>\n      <td>4400</td>\n      <td>2.900600</td>\n    </tr>\n    <tr>\n      <td>4500</td>\n      <td>2.837700</td>\n    </tr>\n    <tr>\n      <td>4600</td>\n      <td>2.839100</td>\n    </tr>\n    <tr>\n      <td>4700</td>\n      <td>2.848200</td>\n    </tr>\n    <tr>\n      <td>4800</td>\n      <td>2.853300</td>\n    </tr>\n    <tr>\n      <td>4900</td>\n      <td>2.857900</td>\n    </tr>\n    <tr>\n      <td>5000</td>\n      <td>2.830800</td>\n    </tr>\n    <tr>\n      <td>5100</td>\n      <td>2.819600</td>\n    </tr>\n    <tr>\n      <td>5200</td>\n      <td>2.819300</td>\n    </tr>\n    <tr>\n      <td>5300</td>\n      <td>2.811500</td>\n    </tr>\n    <tr>\n      <td>5400</td>\n      <td>2.822300</td>\n    </tr>\n    <tr>\n      <td>5500</td>\n      <td>2.825400</td>\n    </tr>\n    <tr>\n      <td>5600</td>\n      <td>2.790400</td>\n    </tr>\n    <tr>\n      <td>5700</td>\n      <td>2.796600</td>\n    </tr>\n    <tr>\n      <td>5800</td>\n      <td>2.794300</td>\n    </tr>\n    <tr>\n      <td>5900</td>\n      <td>2.810500</td>\n    </tr>\n    <tr>\n      <td>6000</td>\n      <td>2.794300</td>\n    </tr>\n  </tbody>\n</table><p>"
          },
          "metadata": {}
        }
      ],
      "id": "34ed41be"
    },
    {
      "cell_type": "code",
      "source": [
        "#Print the model training logs\n",
        "trainer.state.log_history"
      ],
      "metadata": {
        "colab": {
          "base_uri": "https://localhost:8080/"
        },
        "id": "3f91a8dd",
        "outputId": "ded895a0-a334-4f78-fc50-16550ba26cc7",
        "execution": {
          "iopub.status.busy": "2023-10-27T17:09:51.583534Z",
          "iopub.execute_input": "2023-10-27T17:09:51.584337Z",
          "iopub.status.idle": "2023-10-27T17:09:51.602507Z",
          "shell.execute_reply.started": "2023-10-27T17:09:51.584304Z",
          "shell.execute_reply": "2023-10-27T17:09:51.601444Z"
        },
        "trusted": true
      },
      "execution_count": null,
      "outputs": [
        {
          "execution_count": 13,
          "output_type": "execute_result",
          "data": {
            "text/plain": "[{'loss': 3.8804,\n  'learning_rate': 9.834409670475245e-05,\n  'epoch': 0.18,\n  'step': 100},\n {'loss': 3.7302,\n  'learning_rate': 9.668819340950489e-05,\n  'epoch': 0.36,\n  'step': 200},\n {'loss': 3.6679,\n  'learning_rate': 9.503229011425733e-05,\n  'epoch': 0.55,\n  'step': 300},\n {'loss': 3.6327,\n  'learning_rate': 9.337638681900977e-05,\n  'epoch': 0.73,\n  'step': 400},\n {'loss': 3.6,\n  'learning_rate': 9.172048352376222e-05,\n  'epoch': 0.91,\n  'step': 500},\n {'loss': 3.5112,\n  'learning_rate': 9.006458022851466e-05,\n  'epoch': 1.09,\n  'step': 600},\n {'loss': 3.4263,\n  'learning_rate': 8.84086769332671e-05,\n  'epoch': 1.28,\n  'step': 700},\n {'loss': 3.4266,\n  'learning_rate': 8.675277363801954e-05,\n  'epoch': 1.46,\n  'step': 800},\n {'loss': 3.4202,\n  'learning_rate': 8.509687034277199e-05,\n  'epoch': 1.64,\n  'step': 900},\n {'loss': 3.4043,\n  'learning_rate': 8.344096704752443e-05,\n  'epoch': 1.82,\n  'step': 1000},\n {'loss': 3.3916,\n  'learning_rate': 8.178506375227687e-05,\n  'epoch': 2.0,\n  'step': 1100},\n {'loss': 3.2665,\n  'learning_rate': 8.012916045702931e-05,\n  'epoch': 2.19,\n  'step': 1200},\n {'loss': 3.2674,\n  'learning_rate': 7.847325716178176e-05,\n  'epoch': 2.37,\n  'step': 1300},\n {'loss': 3.2794,\n  'learning_rate': 7.68173538665342e-05,\n  'epoch': 2.55,\n  'step': 1400},\n {'loss': 3.276,\n  'learning_rate': 7.516145057128664e-05,\n  'epoch': 2.73,\n  'step': 1500},\n {'loss': 3.2607,\n  'learning_rate': 7.350554727603907e-05,\n  'epoch': 2.91,\n  'step': 1600},\n {'loss': 3.2126,\n  'learning_rate': 7.184964398079153e-05,\n  'epoch': 3.1,\n  'step': 1700},\n {'loss': 3.1608,\n  'learning_rate': 7.019374068554397e-05,\n  'epoch': 3.28,\n  'step': 1800},\n {'loss': 3.159,\n  'learning_rate': 6.853783739029641e-05,\n  'epoch': 3.46,\n  'step': 1900},\n {'loss': 3.1591,\n  'learning_rate': 6.688193409504885e-05,\n  'epoch': 3.64,\n  'step': 2000},\n {'loss': 3.1669,\n  'learning_rate': 6.52260307998013e-05,\n  'epoch': 3.83,\n  'step': 2100},\n {'loss': 3.1622,\n  'learning_rate': 6.357012750455374e-05,\n  'epoch': 4.01,\n  'step': 2200},\n {'loss': 3.0527,\n  'learning_rate': 6.191422420930618e-05,\n  'epoch': 4.19,\n  'step': 2300},\n {'loss': 3.0664,\n  'learning_rate': 6.025832091405862e-05,\n  'epoch': 4.37,\n  'step': 2400},\n {'loss': 3.0785,\n  'learning_rate': 5.8602417618811066e-05,\n  'epoch': 4.55,\n  'step': 2500},\n {'loss': 3.0817,\n  'learning_rate': 5.69465143235635e-05,\n  'epoch': 4.74,\n  'step': 2600},\n {'loss': 3.0798,\n  'learning_rate': 5.529061102831595e-05,\n  'epoch': 4.92,\n  'step': 2700},\n {'loss': 3.0319,\n  'learning_rate': 5.363470773306839e-05,\n  'epoch': 5.1,\n  'step': 2800},\n {'loss': 2.987,\n  'learning_rate': 5.1978804437820836e-05,\n  'epoch': 5.28,\n  'step': 2900},\n {'loss': 3.0053,\n  'learning_rate': 5.032290114257328e-05,\n  'epoch': 5.46,\n  'step': 3000},\n {'loss': 3.01,\n  'learning_rate': 4.866699784732572e-05,\n  'epoch': 5.65,\n  'step': 3100},\n {'loss': 3.0022,\n  'learning_rate': 4.7011094552078163e-05,\n  'epoch': 5.83,\n  'step': 3200},\n {'loss': 2.9948,\n  'learning_rate': 4.5355191256830606e-05,\n  'epoch': 6.01,\n  'step': 3300},\n {'loss': 2.9213,\n  'learning_rate': 4.369928796158305e-05,\n  'epoch': 6.19,\n  'step': 3400},\n {'loss': 2.9307,\n  'learning_rate': 4.204338466633549e-05,\n  'epoch': 6.38,\n  'step': 3500},\n {'loss': 2.941,\n  'learning_rate': 4.038748137108793e-05,\n  'epoch': 6.56,\n  'step': 3600},\n {'loss': 2.9462,\n  'learning_rate': 3.8731578075840376e-05,\n  'epoch': 6.74,\n  'step': 3700},\n {'loss': 2.95,\n  'learning_rate': 3.707567478059282e-05,\n  'epoch': 6.92,\n  'step': 3800},\n {'loss': 2.902,\n  'learning_rate': 3.541977148534526e-05,\n  'epoch': 7.1,\n  'step': 3900},\n {'loss': 2.8806,\n  'learning_rate': 3.3763868190097696e-05,\n  'epoch': 7.29,\n  'step': 4000},\n {'loss': 2.8854,\n  'learning_rate': 3.210796489485014e-05,\n  'epoch': 7.47,\n  'step': 4100},\n {'loss': 2.8898,\n  'learning_rate': 3.045206159960258e-05,\n  'epoch': 7.65,\n  'step': 4200},\n {'loss': 2.8952,\n  'learning_rate': 2.8796158304355024e-05,\n  'epoch': 7.83,\n  'step': 4300},\n {'loss': 2.9006,\n  'learning_rate': 2.714025500910747e-05,\n  'epoch': 8.01,\n  'step': 4400},\n {'loss': 2.8377,\n  'learning_rate': 2.5484351713859912e-05,\n  'epoch': 8.2,\n  'step': 4500},\n {'loss': 2.8391,\n  'learning_rate': 2.3828448418612355e-05,\n  'epoch': 8.38,\n  'step': 4600},\n {'loss': 2.8482,\n  'learning_rate': 2.2172545123364797e-05,\n  'epoch': 8.56,\n  'step': 4700},\n {'loss': 2.8533,\n  'learning_rate': 2.051664182811724e-05,\n  'epoch': 8.74,\n  'step': 4800},\n {'loss': 2.8579,\n  'learning_rate': 1.8860738532869682e-05,\n  'epoch': 8.93,\n  'step': 4900},\n {'loss': 2.8308,\n  'learning_rate': 1.7204835237622124e-05,\n  'epoch': 9.11,\n  'step': 5000},\n {'loss': 2.8196,\n  'learning_rate': 1.5548931942374567e-05,\n  'epoch': 9.29,\n  'step': 5100},\n {'loss': 2.8193,\n  'learning_rate': 1.3893028647127008e-05,\n  'epoch': 9.47,\n  'step': 5200},\n {'loss': 2.8115,\n  'learning_rate': 1.2237125351879452e-05,\n  'epoch': 9.65,\n  'step': 5300},\n {'loss': 2.8223,\n  'learning_rate': 1.0581222056631892e-05,\n  'epoch': 9.84,\n  'step': 5400},\n {'loss': 2.8254,\n  'learning_rate': 8.925318761384335e-06,\n  'epoch': 10.02,\n  'step': 5500},\n {'loss': 2.7904,\n  'learning_rate': 7.269415466136778e-06,\n  'epoch': 10.2,\n  'step': 5600},\n {'loss': 2.7966,\n  'learning_rate': 5.61351217088922e-06,\n  'epoch': 10.38,\n  'step': 5700},\n {'loss': 2.7943,\n  'learning_rate': 3.957608875641663e-06,\n  'epoch': 10.56,\n  'step': 5800},\n {'loss': 2.8105,\n  'learning_rate': 2.301705580394105e-06,\n  'epoch': 10.75,\n  'step': 5900},\n {'loss': 2.7943,\n  'learning_rate': 6.458022851465474e-07,\n  'epoch': 10.93,\n  'step': 6000},\n {'train_runtime': 3448.9459,\n  'train_samples_per_second': 56.009,\n  'train_steps_per_second': 1.751,\n  'total_flos': 1.2618510778368e+16,\n  'train_loss': 3.0822344415332728,\n  'epoch': 11.0,\n  'step': 6039}]"
          },
          "metadata": {}
        }
      ],
      "id": "3f91a8dd"
    },
    {
      "cell_type": "code",
      "source": [
        "#Store steps, loss and epochs data from training logs\n",
        "steps = []\n",
        "loss =[]\n",
        "epochs=[]\n",
        "for i in range(len(trainer.state.log_history)):\n",
        "    steps.append(trainer.state.log_history[i][\"step\"])\n",
        "for i in range(len(trainer.state.log_history)):\n",
        "    epochs.append(trainer.state.log_history[i][\"epoch\"])\n"
      ],
      "metadata": {
        "id": "eb60d48b",
        "execution": {
          "iopub.status.busy": "2023-10-27T17:10:02.382931Z",
          "iopub.execute_input": "2023-10-27T17:10:02.383390Z",
          "iopub.status.idle": "2023-10-27T17:10:02.391024Z",
          "shell.execute_reply.started": "2023-10-27T17:10:02.383355Z",
          "shell.execute_reply": "2023-10-27T17:10:02.389969Z"
        },
        "trusted": true
      },
      "execution_count": null,
      "outputs": [],
      "id": "eb60d48b"
    },
    {
      "cell_type": "code",
      "source": [
        "for i in range(len(trainer.state.log_history)-1):\n",
        "    loss.append(trainer.state.log_history[i][\"loss\"])\n",
        "loss.append(trainer.state.log_history[len(trainer.state.log_history)-1][\"train_loss\"])"
      ],
      "metadata": {
        "id": "8cb498d6",
        "scrolled": true,
        "execution": {
          "iopub.status.busy": "2023-10-27T17:10:05.822531Z",
          "iopub.execute_input": "2023-10-27T17:10:05.823161Z",
          "iopub.status.idle": "2023-10-27T17:10:05.830790Z",
          "shell.execute_reply.started": "2023-10-27T17:10:05.823128Z",
          "shell.execute_reply": "2023-10-27T17:10:05.829660Z"
        },
        "trusted": true
      },
      "execution_count": null,
      "outputs": [],
      "id": "8cb498d6"
    },
    {
      "cell_type": "code",
      "source": [
        "print(epochs,steps, loss)"
      ],
      "metadata": {
        "colab": {
          "base_uri": "https://localhost:8080/"
        },
        "id": "10d38fa7",
        "outputId": "57295fc1-6e4c-4ef5-b910-94a63ec7db05",
        "execution": {
          "iopub.status.busy": "2023-10-27T17:10:09.083471Z",
          "iopub.execute_input": "2023-10-27T17:10:09.084159Z",
          "iopub.status.idle": "2023-10-27T17:10:09.093108Z",
          "shell.execute_reply.started": "2023-10-27T17:10:09.084119Z",
          "shell.execute_reply": "2023-10-27T17:10:09.091744Z"
        },
        "trusted": true
      },
      "execution_count": null,
      "outputs": [
        {
          "name": "stdout",
          "text": "[0.18, 0.36, 0.55, 0.73, 0.91, 1.09, 1.28, 1.46, 1.64, 1.82, 2.0, 2.19, 2.37, 2.55, 2.73, 2.91, 3.1, 3.28, 3.46, 3.64, 3.83, 4.01, 4.19, 4.37, 4.55, 4.74, 4.92, 5.1, 5.28, 5.46, 5.65, 5.83, 6.01, 6.19, 6.38, 6.56, 6.74, 6.92, 7.1, 7.29, 7.47, 7.65, 7.83, 8.01, 8.2, 8.38, 8.56, 8.74, 8.93, 9.11, 9.29, 9.47, 9.65, 9.84, 10.02, 10.2, 10.38, 10.56, 10.75, 10.93, 11.0] [100, 200, 300, 400, 500, 600, 700, 800, 900, 1000, 1100, 1200, 1300, 1400, 1500, 1600, 1700, 1800, 1900, 2000, 2100, 2200, 2300, 2400, 2500, 2600, 2700, 2800, 2900, 3000, 3100, 3200, 3300, 3400, 3500, 3600, 3700, 3800, 3900, 4000, 4100, 4200, 4300, 4400, 4500, 4600, 4700, 4800, 4900, 5000, 5100, 5200, 5300, 5400, 5500, 5600, 5700, 5800, 5900, 6000, 6039] [3.8804, 3.7302, 3.6679, 3.6327, 3.6, 3.5112, 3.4263, 3.4266, 3.4202, 3.4043, 3.3916, 3.2665, 3.2674, 3.2794, 3.276, 3.2607, 3.2126, 3.1608, 3.159, 3.1591, 3.1669, 3.1622, 3.0527, 3.0664, 3.0785, 3.0817, 3.0798, 3.0319, 2.987, 3.0053, 3.01, 3.0022, 2.9948, 2.9213, 2.9307, 2.941, 2.9462, 2.95, 2.902, 2.8806, 2.8854, 2.8898, 2.8952, 2.9006, 2.8377, 2.8391, 2.8482, 2.8533, 2.8579, 2.8308, 2.8196, 2.8193, 2.8115, 2.8223, 2.8254, 2.7904, 2.7966, 2.7943, 2.8105, 2.7943, 3.0822344415332728]\n",
          "output_type": "stream"
        }
      ],
      "id": "10d38fa7"
    },
    {
      "cell_type": "code",
      "source": [
        "#Plot the graph of training loss vs steps\n",
        "plt.plot(steps, loss)\n",
        "plt.xlabel(\"Step\")\n",
        "plt.ylabel(\"Loss\")\n",
        "plt.title(\"Loss vs. Steps\")\n",
        "plt.show()"
      ],
      "metadata": {
        "colab": {
          "base_uri": "https://localhost:8080/",
          "height": 472
        },
        "id": "4ab6eb93",
        "outputId": "b7fc7e7c-4eef-419a-fb4b-66bbfcc6aff5",
        "execution": {
          "iopub.status.busy": "2023-10-27T17:10:12.064825Z",
          "iopub.execute_input": "2023-10-27T17:10:12.065195Z",
          "iopub.status.idle": "2023-10-27T17:10:12.363442Z",
          "shell.execute_reply.started": "2023-10-27T17:10:12.065165Z",
          "shell.execute_reply": "2023-10-27T17:10:12.362383Z"
        },
        "trusted": true
      },
      "execution_count": null,
      "outputs": [
        {
          "output_type": "display_data",
          "data": {
            "text/plain": "<Figure size 640x480 with 1 Axes>",
            "image/png": "[encoded data removed]"
          },
          "metadata": {}
        }
      ],
      "id": "4ab6eb93"
    },
    {
      "cell_type": "code",
      "source": [
        "#Plot the graph of training loss vs epochs\n",
        "plt.plot(epochs, loss)\n",
        "plt.xlabel(\"Epochs\")\n",
        "plt.ylabel(\"Loss\")\n",
        "plt.title(\"Loss vs. Epochs\")\n",
        "plt.show()"
      ],
      "metadata": {
        "colab": {
          "base_uri": "https://localhost:8080/",
          "height": 472
        },
        "id": "03c41ed3",
        "outputId": "48e98b0f-afff-4408-90fb-b7891a989742",
        "scrolled": true,
        "execution": {
          "iopub.status.busy": "2023-10-27T17:10:34.565081Z",
          "iopub.execute_input": "2023-10-27T17:10:34.566312Z",
          "iopub.status.idle": "2023-10-27T17:10:34.763478Z",
          "shell.execute_reply.started": "2023-10-27T17:10:34.566265Z",
          "shell.execute_reply": "2023-10-27T17:10:34.762455Z"
        },
        "trusted": true
      },
      "execution_count": null,
      "outputs": [
        {
          "output_type": "display_data",
          "data": {
            "text/plain": "<Figure size 640x480 with 1 Axes>",
            "image/png": "[encoded data removed]"
          },
          "metadata": {}
        }
      ],
      "id": "03c41ed3"
    },
    {
      "cell_type": "markdown",
      "source": [
        "### Model Evaluation (Model 1)"
      ],
      "metadata": {
        "id": "fc60f1d0"
      },
      "id": "fc60f1d0"
    },
    {
      "cell_type": "code",
      "source": [
        "# Generate text example\n",
        "generator = pipeline('text-generation', model=\"./saved_model\")\n",
        "generator(\"The story began with Harry Potter, Hermione Granger, and Ron Weasley inadvertently stumbling upon an ancient portal while exploring the Forbidden Forest during their final year at Hogwarts. Upon emerging from the portal, they found themselves in a vast and dense forest, surrounded by towering trees. To their surprise, they were greeted by none other than Frodo, Sam, Merry, and Pippin, the beloved hobbits from the Shire. Harry was surprised to see hobbits and then decided to befriend them \", max_length=1000, num_return_sequences=1)"
      ],
      "metadata": {
        "colab": {
          "base_uri": "https://localhost:8080/"
        },
        "id": "62f959a7",
        "outputId": "13042c5c-2cb5-469b-cd2e-00193aa7bfaf",
        "execution": {
          "iopub.status.busy": "2023-10-27T17:21:55.435210Z",
          "iopub.execute_input": "2023-10-27T17:21:55.435559Z",
          "iopub.status.idle": "2023-10-27T17:22:34.826126Z",
          "shell.execute_reply.started": "2023-10-27T17:21:55.435533Z",
          "shell.execute_reply": "2023-10-27T17:22:34.825005Z"
        },
        "trusted": true
      },
      "execution_count": null,
      "outputs": [
        {
          "name": "stderr",
          "text": "Setting `pad_token_id` to `eos_token_id`:50256 for open-end generation.\n",
          "output_type": "stream"
        },
        {
          "execution_count": 24,
          "output_type": "execute_result",
          "data": {
            "text/plain": "[{'generated_text': \"The story began with Harry Potter, Hermione Granger, and Ron Weasley inadvertently stumbling upon an ancient portal while exploring the Forbidden Forest during their final year at Hogwarts. Upon emerging from the portal, they found themselves in a vast and dense forest, surrounded by towering trees. To their surprise, they were greeted by none other than Frodo, Sam, Merry, and Pippin, the beloved hobbits from the Shire. Harry was surprised to see hobbits and then decided to befriend them ickle. Hi, Sam, he said gruffly, helping himself to coffee. I thought we'd be friends before we went out to the field and started shooting hoops. That sounds great, said Sam when he saw them hurrying toward him as he passed. I wonder what these old socks are made of, eh Yeah, I can, said Merry, smiling. A selection of their socks. D'you reckon they're made of some metal the unicorn would like A bit like them. Can you lend 'em any help, Mr. Frodo I didn't want to help, said Mr. Pippin, putting his foot down with dignity. All right, no problem, I've already got one of these. And Mr. Merry brought 'em in here, said Pippin, looking up. All right, he pointed at the unicorn, and it leapt out of the window so we was going to come back. Can you lend them to Buckbeak No problem, said Sam, seizing the largest. No problem, said Bill as he handed them over without looking at them. I'll give 'em your old shoes. They're made of something, I made them for you, of course, all right, said Mr. Frodo with an angry expression, and he handed the pair to Bill. Oh no, come in, Mr. Frodo said Slughorn with a nasty grin. They're for real leather pants. There are only those made for hobbitshoes, that's all. Oh, yes, said Mr. Frodo with a slightly choked laugh. Yes, I got it, the worst one for you, Mr. Slughorn. Well, you should have your lot here said Mr. Finnigan, taking out his bow tie and squinting curiously into the air for a moment. It's not really at all leather, it's just this. It was made for you, Mr. Baggins, you know. So, said Ted, who seemed to have forgotten about a bit of the history of hobbits Hawking dwarves, just to look at them. It was Mr. Bilbo Baggins, said Ted, pulling the long elf suit over himself and putting it on. It used to be made for hobbitshoes, but it was made, by the dwarves. We used to use a hundred ponies, and the dwarves had to make all our gear for us, said Mr. Slughorn. There was a fine saddle, Mr. Baggins, Mr. Bilbo's only he couldn't spare for a hundred, and a half o' the dwarves, and they've been making them all our stuff up these days, said Mr. Baggins. I put mine on Mr. Bilbo Baggins couldn't understand a word. It's a hobbitstuff in them. You shouldn't be too small, look at them Mr. Baggins and see, he said in a much smaller voice. They made them double for us, said Ted. We've only asked for three and a bit, said Slughorn to give us a better deal. Bilbo, Mr. Bilbo said I'll be a hobbitchop if you three get six. Mr. Smaug came in as a surprise, to tell us what's all about you and what's all about it said Mr. Bilbo. He's a bit hobbitch, you know, and if he'd had his way with an elf, he'd be fine in a minute But he'll never be very easy to take off. And what's the good of goblins, said Mr. Bilbo. They'll take care of him, Mr. Smaug, said Slughorn. Now listen, said Mr. Baggins, I've an order to tell you this, you see I sent Mr. Bilbo with me. He'll be in the top bunk, and then we'd better take off. Just as I promised. And he won't stop and promise I'll come over. Listen, and you can make a promise if you like Then I'll come over, sir, and you can help us. I'll go up and tell the rest I'll come over, and send you over too, and we'll take care of you We'll know soon enough. And then all the rest knows, Mr. Baggins, said Slughorn, and if he'll be in the\"}]"
          },
          "metadata": {}
        }
      ],
      "id": "62f959a7"
    },
    {
      "cell_type": "markdown",
      "source": [
        "### Here again prompt text \"Harry\" was used to generate text from fine tuned GPT 2 model and we can notice that both of sequences are related to Harry Potter and Hogwartz which shows that our fine tuning process is successful."
      ],
      "metadata": {
        "id": "mhevxP5278Gn"
      },
      "id": "mhevxP5278Gn"
    },
    {
      "cell_type": "code",
      "source": [
        "#Generate text example\n",
        "generator(\"Frodo decided to face sauron army \", max_length=500, num_return_sequences=2)"
      ],
      "metadata": {
        "colab": {
          "base_uri": "https://localhost:8080/"
        },
        "id": "2d8bd65f",
        "outputId": "627762ac-5245-4f9f-e001-db896249e52b",
        "scrolled": true,
        "execution": {
          "iopub.status.busy": "2023-10-27T17:23:51.423359Z",
          "iopub.execute_input": "2023-10-27T17:23:51.424379Z",
          "iopub.status.idle": "2023-10-27T17:24:23.387750Z",
          "shell.execute_reply.started": "2023-10-27T17:23:51.424346Z",
          "shell.execute_reply": "2023-10-27T17:24:23.386594Z"
        },
        "trusted": true
      },
      "execution_count": null,
      "outputs": [
        {
          "name": "stderr",
          "text": "Setting `pad_token_id` to `eos_token_id`:50256 for open-end generation.\n",
          "output_type": "stream"
        },
        {
          "execution_count": 25,
          "output_type": "execute_result",
          "data": {
            "text/plain": "[{'generated_text': \"Frodo decided to face sauron army ichieren. That would be twelve horsemen or more, the order of battle, and many arrows could he find. He crossed into the open and took a lead towards the enemy before they could meet him. Then he halted, seized his sword Anglachel by the hilt, he charged the goblins with his spear, and seized Merry with his bow and they quailed. At last he halted again and turned his whole force to bear them back. They made no move for battle,intosh of Orcs or of the Orcs that were in the woods. Swiftly Frodo rose and looked down upon them the glint of arrows on their horses but all was plain. The Orcs looked upon their enemy without the least courtesy. 'We did not put a hand on them,' said Aragorn. 'We did not cut them down. There seemed little chance of their escape.' 'Well, how come'said Frodo. I am afraid they fled to a wood beyond sight from here behind,' said the king but the Orcs did not pursue them or yield to newest attack, neither did they strike us. For here we were a rout, and we are drawing near to the gate. How come We heard the sound of the horn loud and clear again, and saw the enemy marching from the forest before us. Now we come on now we must go to the hill.' 'All rouse up Gandalf' cried the king, and taking a great draught the hobbits stood a little straighter before him and Merry thought him amazed, remembering it, and he drew Sting. 'This sword would give us the sword of Gondor,' snarled the king again. 'No,' said the king. 'Halt, haste It is long since you have come to Gondor, that was once its proud lord's hall. Now our swords, mighty among the great Elves in the Land of Mordor but it will not harm the enemy.' Swiftly they drew nearer. The hobbits halted, and Gimli sat down, aghast but Merry thought that one of the Orcs had tried to cut him with a bow.URESARAGN Ethan the mighty. They struck first with their long scimitars and bore many arrows. Swiftly they drew out of the woods. The others sprang back on the horse, and hastened over them like a spear and fell before them in great spl\"},\n {'generated_text': \"Frodo decided to face sauron army ily before him. He had not yet been allowed entry to Orthanc, and only when he showed his strength and courage could he find entrance, for the walls and the waybread were concealed beyond the sight of the Gate. But after two days he returned in a shape far from Sauron and with a company of the Riders prepared for the crossing he mounted their great palfrey, and he rode to the top of Helm's Deep as was his wont, and rode forth. The wind blew as he went, and he heard a noise as of many men upon the mountainhill. Suddenly Gandalf arose and ran forward, leading his company. 'Where is your captain' he cried. 'Where is your son' 'When you returned from the Gate, Frodo,' said Arag CADN. 'Gandalf had brought Merry as one of his guest. So he came never again.' Frodo bowed and took his horse by his side and they were led into the outer court by Aragorn, and Merry came through. The others followed. Aragorn sent them no messages, but they rode through the gates of the northward gate and followed without difficulty, and Frodo looked up to watch the men of Legolas and Gimli standing on the steps. 'Gandalf' he called at Gandalf. 'You are with us, you great lord of this City' 'No, not now' 'not yet Do not speak to him. But he is here,' said Aragorn. 'The Lord of Lothl rien, I hear you speak. I am with him. We must not fear what you might prove.' He stepped to the king. 'Ride on Ride on Ride on' cried Gandalf, and rode back. 'I will go first, my friends. When we have passed through the gate your horses will be ready. When we are come all will ride together For a horsemen ride first And Aragorn will be your guard of horses.' Then the king stepped forward, for the white horse was already drawn up from the fields. Behind him stood Gandalf with omer and three of the guards of the king's house, and behind them stood Elrond, and the house of Elrond. 'Thus they passed,' he said. 'A horsemen was sent to me in the City of Gondor in the morning. But for some time the horse\"}]"
          },
          "metadata": {}
        }
      ],
      "id": "2d8bd65f"
    },
    {
      "cell_type": "markdown",
      "source": [
        "## push to hub"
      ],
      "metadata": {
        "id": "TGsWVrKS78Gn"
      },
      "id": "TGsWVrKS78Gn"
    },
    {
      "cell_type": "code",
      "source": [
        "pip install huggingface_hub"
      ],
      "metadata": {
        "id": "EJsKkXRsvCDl",
        "execution": {
          "iopub.status.busy": "2023-10-27T17:25:13.890112Z",
          "iopub.execute_input": "2023-10-27T17:25:13.890924Z",
          "iopub.status.idle": "2023-10-27T17:25:25.916222Z",
          "shell.execute_reply.started": "2023-10-27T17:25:13.890893Z",
          "shell.execute_reply": "2023-10-27T17:25:25.914945Z"
        },
        "trusted": true,
        "outputId": "31c988c3-199c-4aad-a145-e57247fef74d"
      },
      "execution_count": null,
      "outputs": [
        {
          "name": "stdout",
          "text": "huggingface/tokenizers: The current process just got forked, after parallelism has already been used. Disabling parallelism to avoid deadlocks...\nTo disable this warning, you can either:\n\t- Avoid using `tokenizers` before the fork if possible\n\t- Explicitly set the environment variable TOKENIZERS_PARALLELISM=(true | false)\nRequirement already satisfied: huggingface_hub in /opt/conda/lib/python3.10/site-packages (0.16.4)\nRequirement already satisfied: filelock in /opt/conda/lib/python3.10/site-packages (from huggingface_hub) (3.12.2)\nRequirement already satisfied: fsspec in /opt/conda/lib/python3.10/site-packages (from huggingface_hub) (2023.9.0)\nRequirement already satisfied: requests in /opt/conda/lib/python3.10/site-packages (from huggingface_hub) (2.31.0)\nRequirement already satisfied: tqdm>=4.42.1 in /opt/conda/lib/python3.10/site-packages (from huggingface_hub) (4.66.1)\nRequirement already satisfied: pyyaml>=5.1 in /opt/conda/lib/python3.10/site-packages (from huggingface_hub) (6.0)\nRequirement already satisfied: typing-extensions>=3.7.4.3 in /opt/conda/lib/python3.10/site-packages (from huggingface_hub) (4.6.3)\nRequirement already satisfied: packaging>=20.9 in /opt/conda/lib/python3.10/site-packages (from huggingface_hub) (21.3)\nRequirement already satisfied: pyparsing!=3.0.5,>=2.0.2 in /opt/conda/lib/python3.10/site-packages (from packaging>=20.9->huggingface_hub) (3.0.9)\nRequirement already satisfied: charset-normalizer<4,>=2 in /opt/conda/lib/python3.10/site-packages (from requests->huggingface_hub) (3.1.0)\nRequirement already satisfied: idna<4,>=2.5 in /opt/conda/lib/python3.10/site-packages (from requests->huggingface_hub) (3.4)\nRequirement already satisfied: urllib3<3,>=1.21.1 in /opt/conda/lib/python3.10/site-packages (from requests->huggingface_hub) (1.26.15)\nRequirement already satisfied: certifi>=2017.4.17 in /opt/conda/lib/python3.10/site-packages (from requests->huggingface_hub) (2023.7.22)\nNote: you may need to restart the kernel to use updated packages.\n",
          "output_type": "stream"
        }
      ],
      "id": "EJsKkXRsvCDl"
    },
    {
      "cell_type": "code",
      "source": [
        "from huggingface_hub import notebook_login\n",
        "\n",
        "notebook_login()"
      ],
      "metadata": {
        "execution": {
          "iopub.status.busy": "2023-10-27T17:25:25.918865Z",
          "iopub.execute_input": "2023-10-27T17:25:25.919299Z",
          "iopub.status.idle": "2023-10-27T17:25:25.951807Z",
          "shell.execute_reply.started": "2023-10-27T17:25:25.919257Z",
          "shell.execute_reply": "2023-10-27T17:25:25.950674Z"
        },
        "trusted": true,
        "id": "BVnt7uB478Go",
        "outputId": "810db845-6e80-48ba-b422-e396ca7dd38a",
        "colab": {
          "referenced_widgets": [
            "c80c658591dd4b0d8f380df221fa8062"
          ]
        }
      },
      "execution_count": null,
      "outputs": [
        {
          "output_type": "display_data",
          "data": {
            "text/plain": "VBox(children=(HTML(value='<center> <img\\nsrc=https://huggingface.co/front/assets/huggingface_logo-noborder.sv…",
            "application/vnd.jupyter.widget-view+json": {
              "version_major": 2,
              "version_minor": 0,
              "model_id": "c80c658591dd4b0d8f380df221fa8062"
            }
          },
          "metadata": {}
        }
      ],
      "id": "BVnt7uB478Go"
    },
    {
      "cell_type": "code",
      "source": [
        "model.save_pretrained(cached_model_directory_name)"
      ],
      "metadata": {
        "execution": {
          "iopub.status.busy": "2023-10-27T17:25:48.522747Z",
          "iopub.execute_input": "2023-10-27T17:25:48.523130Z",
          "iopub.status.idle": "2023-10-27T17:25:49.222220Z",
          "shell.execute_reply.started": "2023-10-27T17:25:48.523100Z",
          "shell.execute_reply": "2023-10-27T17:25:49.221219Z"
        },
        "trusted": true,
        "id": "W7_I_NV-78Go"
      },
      "execution_count": null,
      "outputs": [],
      "id": "W7_I_NV-78Go"
    },
    {
      "cell_type": "code",
      "source": [
        "type(model)"
      ],
      "metadata": {
        "execution": {
          "iopub.status.busy": "2023-10-27T17:26:16.040456Z",
          "iopub.execute_input": "2023-10-27T17:26:16.040833Z",
          "iopub.status.idle": "2023-10-27T17:26:16.048278Z",
          "shell.execute_reply.started": "2023-10-27T17:26:16.040798Z",
          "shell.execute_reply": "2023-10-27T17:26:16.047029Z"
        },
        "trusted": true,
        "id": "RJRGMQrx78Go",
        "outputId": "cd793927-b846-4d1d-a7ae-c70b162ef36a"
      },
      "execution_count": null,
      "outputs": [
        {
          "execution_count": 29,
          "output_type": "execute_result",
          "data": {
            "text/plain": "transformers.models.gpt2.modeling_gpt2.GPT2LMHeadModel"
          },
          "metadata": {}
        }
      ],
      "id": "RJRGMQrx78Go"
    },
    {
      "cell_type": "code",
      "source": [
        "model.push_to_hub(cached_model_directory_name)"
      ],
      "metadata": {
        "execution": {
          "iopub.status.busy": "2023-10-27T17:26:18.479569Z",
          "iopub.execute_input": "2023-10-27T17:26:18.480449Z",
          "iopub.status.idle": "2023-10-27T17:26:48.982659Z",
          "shell.execute_reply.started": "2023-10-27T17:26:18.480413Z",
          "shell.execute_reply": "2023-10-27T17:26:48.981468Z"
        },
        "trusted": true,
        "id": "LmMPtuyE78Go",
        "outputId": "8ab6ee56-f20d-4a61-9302-02908b4f5bc6",
        "colab": {
          "referenced_widgets": [
            "84e862c9b92e435a9d32bef5b9a86207"
          ]
        }
      },
      "execution_count": null,
      "outputs": [
        {
          "output_type": "display_data",
          "data": {
            "text/plain": "pytorch_model.bin:   0%|          | 0.00/498M [00:00<?, ?B/s]",
            "application/vnd.jupyter.widget-view+json": {
              "version_major": 2,
              "version_minor": 0,
              "model_id": "84e862c9b92e435a9d32bef5b9a86207"
            }
          },
          "metadata": {}
        },
        {
          "execution_count": 30,
          "output_type": "execute_result",
          "data": {
            "text/plain": "CommitInfo(commit_url='https://huggingface.co/Prashant-karwasra/GPT2_text_generation_model_paritosh/commit/bc510562f117c96ab6b8b6b21ea8d236092c0301', commit_message='Upload model', commit_description='', oid='bc510562f117c96ab6b8b6b21ea8d236092c0301', pr_url=None, pr_revision=None, pr_num=None)"
          },
          "metadata": {}
        }
      ],
      "id": "LmMPtuyE78Go"
    },
    {
      "cell_type": "code",
      "source": [
        "tokenizer.push_to_hub(cached_model_directory_name)"
      ],
      "metadata": {
        "execution": {
          "iopub.status.busy": "2023-10-27T17:27:11.087812Z",
          "iopub.execute_input": "2023-10-27T17:27:11.088195Z",
          "iopub.status.idle": "2023-10-27T17:27:13.215667Z",
          "shell.execute_reply.started": "2023-10-27T17:27:11.088166Z",
          "shell.execute_reply": "2023-10-27T17:27:13.214639Z"
        },
        "trusted": true,
        "id": "nqQcBx0W78Go",
        "outputId": "664b012d-0e57-4535-b3fa-1f37f0f8b721"
      },
      "execution_count": null,
      "outputs": [
        {
          "execution_count": 31,
          "output_type": "execute_result",
          "data": {
            "text/plain": "CommitInfo(commit_url='https://huggingface.co/Prashant-karwasra/GPT2_text_generation_model_paritosh/commit/1170969217f22962423366c31fab4ddb6c96e45f', commit_message='Upload tokenizer', commit_description='', oid='1170969217f22962423366c31fab4ddb6c96e45f', pr_url=None, pr_revision=None, pr_num=None)"
          },
          "metadata": {}
        }
      ],
      "id": "nqQcBx0W78Go"
    },
    {
      "cell_type": "code",
      "source": [],
      "metadata": {
        "id": "ERA_r43578Go"
      },
      "execution_count": null,
      "outputs": [],
      "id": "ERA_r43578Go"
    },
    {
      "cell_type": "code",
      "source": [],
      "metadata": {
        "id": "f_opCVP378Gp"
      },
      "execution_count": null,
      "outputs": [],
      "id": "f_opCVP378Gp"
    }
  ]
}